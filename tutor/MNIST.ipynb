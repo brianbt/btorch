{
 "cells": [
  {
   "cell_type": "code",
   "execution_count": 1,
   "id": "950ad307-5f59-4b8d-bab0-5617fa28ed6a",
   "metadata": {},
   "outputs": [],
   "source": [
    "import torch\n",
    "import torchvision\n",
    "from torchvision import transforms, datasets\n",
    "from matplotlib import pyplot as plt\n",
    "\n",
    "import btorch\n",
    "import btorch.nn as nn\n",
    "from btorch.vision import models"
   ]
  },
  {
   "cell_type": "code",
   "execution_count": 2,
   "id": "4b24c913-066d-4bde-b778-bfad0e4185a0",
   "metadata": {},
   "outputs": [],
   "source": [
    "class ResNet(nn.Module):\n",
    "    def __init__(self, num_classes) -> None:\n",
    "        super(ResNet, self).__init__()\n",
    "        self.pre_process = nn.Conv2d(1,3,1)\n",
    "        self.model = models.bresnet50(num_classes, include_top=False)\n",
    "        self.last = nn.Linear(2048, num_classes)\n",
    "    def forward(self, x):\n",
    "        x=self.pre_process(x)\n",
    "        x=self.model(x)\n",
    "        x=torch.flatten(x, 1)\n",
    "        x=self.last(x)\n",
    "        return x\n",
    "    # Overwrite our predict function\n",
    "    @classmethod\n",
    "    def predict_(cls, net, loader, device='cuda', config=None):\n",
    "        net.to(device)\n",
    "        net.eval()\n",
    "        out = []\n",
    "        with torch.inference_mode():\n",
    "            for batch_idx, (inputs, _) in enumerate(loader):\n",
    "                inputs =  inputs.to(device)\n",
    "                logit = net(inputs)\n",
    "                answer = torch.max(torch.softmax(logit,1), 1)\n",
    "                out.append(answer)\n",
    "        return out"
   ]
  },
  {
   "cell_type": "code",
   "execution_count": 3,
   "id": "cadd0ee9-c230-4b5c-bcf5-f99cda337a42",
   "metadata": {},
   "outputs": [],
   "source": [
    "# DataSet\n",
    "transform = transforms.Compose(\n",
    "    [transforms.ToTensor()])\n",
    "batch_size = 4\n",
    "trainset = datasets.MNIST(root='./data', train=True,\n",
    "                                        download=True, transform=transform)\n",
    "trainloader = torch.utils.data.DataLoader(trainset, batch_size=batch_size,\n",
    "                                          shuffle=True)\n",
    "testset = datasets.MNIST(root='./data', train=False,\n",
    "                                       download=True, transform=transform)\n",
    "testloader = torch.utils.data.DataLoader(testset, batch_size=batch_size,\n",
    "                                         shuffle=False)"
   ]
  },
  {
   "cell_type": "code",
   "execution_count": 4,
   "id": "80279d79-8721-4e63-ba3b-cf54449a08de",
   "metadata": {},
   "outputs": [
    {
     "name": "stdout",
     "output_type": "stream",
     "text": [
      "using GPU\n"
     ]
    }
   ],
   "source": [
    "# Model\n",
    "net = ResNet(20)\n",
    "\n",
    "# Loss & Optimizer & Config\n",
    "net._optimizer = torch.optim.SGD(net.parameters(), lr=0.001, momentum=0.9)\n",
    "net._lossfn = nn.CrossEntropyLoss()\n",
    "net._config = {'max_epoch':3}\n",
    "\n",
    "# Set GPU\n",
    "device = net.auto_gpu()"
   ]
  },
  {
   "cell_type": "code",
   "execution_count": 5,
   "id": "0c1311a1-7757-43e7-8728-e0b7c51deb36",
   "metadata": {},
   "outputs": [
    {
     "name": "stderr",
     "output_type": "stream",
     "text": [
      "epoch 1 iter 14999: train loss 0.49192.: 100%|██████████| 15000/15000 [06:19<00:00, 39.49it/s]\n"
     ]
    },
    {
     "name": "stdout",
     "output_type": "stream",
     "text": [
      "Epoch 0: Training loss: 3.0421884029347384. Testing loss: Not Provided\n"
     ]
    },
    {
     "name": "stderr",
     "output_type": "stream",
     "text": [
      "epoch 2 iter 14999: train loss 1.28486.: 100%|██████████| 15000/15000 [06:19<00:00, 39.57it/s]\n"
     ]
    },
    {
     "name": "stdout",
     "output_type": "stream",
     "text": [
      "Epoch 1: Training loss: 1.2601886980640178. Testing loss: Not Provided\n"
     ]
    },
    {
     "name": "stderr",
     "output_type": "stream",
     "text": [
      "epoch 3 iter 14999: train loss 0.00510.: 100%|██████████| 15000/15000 [06:19<00:00, 39.55it/s]"
     ]
    },
    {
     "name": "stdout",
     "output_type": "stream",
     "text": [
      "Epoch 2: Training loss: 0.8450309404143802. Testing loss: Not Provided\n"
     ]
    },
    {
     "name": "stderr",
     "output_type": "stream",
     "text": [
      "\n"
     ]
    }
   ],
   "source": [
    "# FIT\n",
    "net.fit(trainloader)"
   ]
  },
  {
   "cell_type": "code",
   "execution_count": 6,
   "id": "cef0e4f1-c7aa-4ad6-bae1-73ada37ca7ee",
   "metadata": {},
   "outputs": [],
   "source": [
    "# Load one batch of test data and do prediction\n",
    "for i in testloader:\n",
    "    break"
   ]
  },
  {
   "cell_type": "code",
   "execution_count": 8,
   "id": "6cc66d12-29ca-4dcf-8a57-f561acd8755e",
   "metadata": {},
   "outputs": [
    {
     "data": {
      "image/png": "[encoded data removed]",
      "text/plain": [
       "<Figure size 432x288 with 4 Axes>"
      ]
     },
     "metadata": {
      "needs_background": "light"
     },
     "output_type": "display_data"
    }
   ],
   "source": [
    "fig, ax = plt.subplots(1, 4)\n",
    "for idx in range(len(i[0])):\n",
    "    ax[idx].imshow(i[0][idx][0].cpu().detach())\n",
    "plt.show()"
   ]
  },
  {
   "cell_type": "code",
   "execution_count": 9,
   "id": "23d73d6b-51df-4e1c-9fab-3f68d99a0150",
   "metadata": {},
   "outputs": [
    {
     "data": {
      "text/plain": [
       "[torch.return_types.max(\n",
       " values=tensor([1.0000, 1.0000, 0.9934, 0.8306], device='cuda:0'),\n",
       " indices=tensor([7, 2, 1, 0], device='cuda:0'))]"
      ]
     },
     "execution_count": 9,
     "metadata": {},
     "output_type": "execute_result"
    }
   ],
   "source": [
    "net.predict(i[0])"
   ]
  },
  {
   "cell_type": "code",
   "execution_count": null,
   "id": "829975ba-afb6-4aeb-8da2-e8be25475d4b",
   "metadata": {},
   "outputs": [],
   "source": []
  }
 ],
 "metadata": {
  "kernelspec": {
   "display_name": "Python [conda env:.conda-my2]",
   "language": "python",
   "name": "conda-env-.conda-my2-py"
  },
  "language_info": {
   "codemirror_mode": {
    "name": "ipython",
    "version": 3
   },
   "file_extension": ".py",
   "mimetype": "text/x-python",
   "name": "python",
   "nbconvert_exporter": "python",
   "pygments_lexer": "ipython3",
   "version": "3.8.12"
  }
 },
 "nbformat": 4,
 "nbformat_minor": 5
}
