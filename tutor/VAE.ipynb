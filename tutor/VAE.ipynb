{
  "cells": [
    {
      "cell_type": "code",
      "source": [
        "!pip install git+https://github.com/brianbt/btorch"
      ],
      "metadata": {
        "id": "S0O9qRRUAqGn",
        "outputId": "6077abff-5f49-4169-a70f-f139fbfc8d81",
        "colab": {
          "base_uri": "https://localhost:8080/"
        }
      },
      "execution_count": 1,
      "outputs": [
        {
          "output_type": "stream",
          "name": "stdout",
          "text": [
            "Looking in indexes: https://pypi.org/simple, https://us-python.pkg.dev/colab-wheels/public/simple/\n",
            "Collecting git+https://github.com/brianbt/btorch\n",
            "  Cloning https://github.com/brianbt/btorch to /tmp/pip-req-build-6v_kcqdv\n",
            "  Running command git clone -q https://github.com/brianbt/btorch /tmp/pip-req-build-6v_kcqdv\n",
            "Requirement already satisfied: torch in /usr/local/lib/python3.7/dist-packages (from btorch==0.0.1) (1.11.0+cu113)\n",
            "Requirement already satisfied: torchvision in /usr/local/lib/python3.7/dist-packages (from btorch==0.0.1) (0.12.0+cu113)\n",
            "Requirement already satisfied: numpy in /usr/local/lib/python3.7/dist-packages (from btorch==0.0.1) (1.21.6)\n",
            "Requirement already satisfied: pandas in /usr/local/lib/python3.7/dist-packages (from btorch==0.0.1) (1.3.5)\n",
            "Requirement already satisfied: torchinfo in /usr/local/lib/python3.7/dist-packages (from btorch==0.0.1) (1.7.0)\n",
            "Requirement already satisfied: opencv-python in /usr/local/lib/python3.7/dist-packages (from btorch==0.0.1) (4.1.2.30)\n",
            "Requirement already satisfied: scikit-learn in /usr/local/lib/python3.7/dist-packages (from btorch==0.0.1) (1.0.2)\n",
            "Requirement already satisfied: matplotlib in /usr/local/lib/python3.7/dist-packages (from btorch==0.0.1) (3.2.2)\n",
            "Requirement already satisfied: tqdm in /usr/local/lib/python3.7/dist-packages (from btorch==0.0.1) (4.64.0)\n",
            "Requirement already satisfied: scipy in /usr/local/lib/python3.7/dist-packages (from btorch==0.0.1) (1.4.1)\n",
            "Requirement already satisfied: cycler>=0.10 in /usr/local/lib/python3.7/dist-packages (from matplotlib->btorch==0.0.1) (0.11.0)\n",
            "Requirement already satisfied: kiwisolver>=1.0.1 in /usr/local/lib/python3.7/dist-packages (from matplotlib->btorch==0.0.1) (1.4.3)\n",
            "Requirement already satisfied: python-dateutil>=2.1 in /usr/local/lib/python3.7/dist-packages (from matplotlib->btorch==0.0.1) (2.8.2)\n",
            "Requirement already satisfied: pyparsing!=2.0.4,!=2.1.2,!=2.1.6,>=2.0.1 in /usr/local/lib/python3.7/dist-packages (from matplotlib->btorch==0.0.1) (3.0.9)\n",
            "Requirement already satisfied: typing-extensions in /usr/local/lib/python3.7/dist-packages (from kiwisolver>=1.0.1->matplotlib->btorch==0.0.1) (4.1.1)\n",
            "Requirement already satisfied: six>=1.5 in /usr/local/lib/python3.7/dist-packages (from python-dateutil>=2.1->matplotlib->btorch==0.0.1) (1.15.0)\n",
            "Requirement already satisfied: pytz>=2017.3 in /usr/local/lib/python3.7/dist-packages (from pandas->btorch==0.0.1) (2022.1)\n",
            "Requirement already satisfied: threadpoolctl>=2.0.0 in /usr/local/lib/python3.7/dist-packages (from scikit-learn->btorch==0.0.1) (3.1.0)\n",
            "Requirement already satisfied: joblib>=0.11 in /usr/local/lib/python3.7/dist-packages (from scikit-learn->btorch==0.0.1) (1.1.0)\n",
            "Requirement already satisfied: pillow!=8.3.*,>=5.3.0 in /usr/local/lib/python3.7/dist-packages (from torchvision->btorch==0.0.1) (7.1.2)\n",
            "Requirement already satisfied: requests in /usr/local/lib/python3.7/dist-packages (from torchvision->btorch==0.0.1) (2.23.0)\n",
            "Requirement already satisfied: idna<3,>=2.5 in /usr/local/lib/python3.7/dist-packages (from requests->torchvision->btorch==0.0.1) (2.10)\n",
            "Requirement already satisfied: certifi>=2017.4.17 in /usr/local/lib/python3.7/dist-packages (from requests->torchvision->btorch==0.0.1) (2022.6.15)\n",
            "Requirement already satisfied: urllib3!=1.25.0,!=1.25.1,<1.26,>=1.21.1 in /usr/local/lib/python3.7/dist-packages (from requests->torchvision->btorch==0.0.1) (1.24.3)\n",
            "Requirement already satisfied: chardet<4,>=3.0.2 in /usr/local/lib/python3.7/dist-packages (from requests->torchvision->btorch==0.0.1) (3.0.4)\n"
          ]
        }
      ]
    },
    {
      "cell_type": "code",
      "source": [
        "import torch\n",
        "import btorch\n",
        "from btorch import nn\n",
        "import btorch.nn.functional as F\n",
        "from btorch.vision.utils import UnNormalize\n",
        "from torchvision import transforms, datasets\n",
        "from tqdm import tqdm\n",
        "from matplotlib import pyplot as plt"
      ],
      "metadata": {
        "id": "NWC5MXiKBjU-"
      },
      "execution_count": 2,
      "outputs": []
    },
    {
      "cell_type": "markdown",
      "source": [
        "# Load Dataset, CIFAR10"
      ],
      "metadata": {
        "id": "fx_KDIXnhVBU"
      }
    },
    {
      "cell_type": "code",
      "source": [
        "# Load CIFAR10 dataset, do augmentation on the trainset\n",
        "transform_train = transforms.Compose([\n",
        "  transforms.RandomHorizontalFlip(0.5),\n",
        "  transforms.ToTensor(),\n",
        "  transforms.Normalize((0.485, 0.456, 0.406), (0.229, 0.224, 0.225))\n",
        "  ])\n",
        "transform_test = transforms.Compose([\n",
        "  transforms.ToTensor()\n",
        "  ])\n",
        "trainset = datasets.CIFAR10('./cifar10',train=True, download=True, transform=transform_train)\n",
        "testset = datasets.CIFAR10('./cifar10',train=False, download=True, transform=transform_test)\n",
        "\n",
        "# Only select the `dog` class\n",
        "train_idx = torch.tensor(trainset.targets,dtype=torch.long) == 6\n",
        "test_idx = torch.tensor(testset.targets,dtype=torch.long) == 6\n",
        "trainset.targets = torch.tensor(trainset.targets,dtype=torch.long)[train_idx]\n",
        "trainset.data = trainset.data[train_idx]\n",
        "testset.targets = torch.tensor(testset.targets,dtype=torch.long)[test_idx]\n",
        "testset.data = testset.data[test_idx]"
      ],
      "metadata": {
        "id": "OuugTRIaFtEv",
        "outputId": "903600c4-be78-4b32-8ffc-51fbe8399ef0",
        "colab": {
          "base_uri": "https://localhost:8080/"
        }
      },
      "execution_count": 3,
      "outputs": [
        {
          "output_type": "stream",
          "name": "stdout",
          "text": [
            "Files already downloaded and verified\n",
            "Files already downloaded and verified\n"
          ]
        }
      ]
    },
    {
      "cell_type": "code",
      "source": [
        "# Add to dataloader\n",
        "batch_size = 16\n",
        "train_loader = torch.utils.data.DataLoader(trainset, batch_size=batch_size, num_workers=2, pin_memory=True, drop_last=True, shuffle=True)\n",
        "test_loader = torch.utils.data.DataLoader(testset, batch_size=batch_size, num_workers=2, pin_memory=True, drop_last=True)"
      ],
      "metadata": {
        "id": "Mk9UFXW4HqQz"
      },
      "execution_count": 4,
      "outputs": []
    },
    {
      "cell_type": "markdown",
      "source": [
        "# Create VAE Model"
      ],
      "metadata": {
        "id": "jzzgkH58haxz"
      }
    },
    {
      "cell_type": "markdown",
      "source": [
        "## Encoder and Decoder Module"
      ],
      "metadata": {
        "id": "A0XYhi-yhkIQ"
      }
    },
    {
      "cell_type": "code",
      "source": [
        "class Encoder(nn.Module):\n",
        "  def __init__(self, hidden_dim):\n",
        "    super(Encoder, self).__init__()\n",
        "    self.layer1 = nn.Conv2d(3, 16, (3,3), 2)\n",
        "    self.bn1 = nn.BatchNorm2d(16)\n",
        "    self.layer2 = nn.Conv2d(16, 32, (3,3), 2)\n",
        "    self.bn2 = nn.BatchNorm2d(32)\n",
        "    self.mu = nn.Linear(1568, hidden_dim)\n",
        "    self.logsigma = nn.Linear(1568, hidden_dim)\n",
        "\n",
        "  def forward(self,x):\n",
        "    x = torch.relu(self.bn1(self.layer1(x)))\n",
        "    x = torch.relu(self.bn2(self.layer2(x)))\n",
        "    x = torch.flatten(x, 1)\n",
        "    mu = self.mu(x)\n",
        "    logsigma = self.logsigma(x)\n",
        "    return mu, logsigma"
      ],
      "metadata": {
        "id": "mDNtyYp0BvLm"
      },
      "execution_count": 5,
      "outputs": []
    },
    {
      "cell_type": "code",
      "source": [
        "class Decoder(nn.Module):\n",
        "  def __init__(self, hidden_dim):\n",
        "    super(Decoder, self).__init__()\n",
        "    self.input = nn.Linear(hidden_dim, 1568)\n",
        "    self.layer1 = nn.ConvTranspose2d(32, 16, (3,3), 2)\n",
        "    self.bn1 = nn.BatchNorm2d(16)\n",
        "    self.layer2 = nn.ConvTranspose2d(16, 16, (4,4), 2)\n",
        "    self.bn2 = nn.BatchNorm2d(16)\n",
        "    self.postP = nn.Conv2dBlock(16, 3, (3,3), padding = 1)\n",
        "    self.last = nn.Conv2d(3,3, (3,3), padding=1)\n",
        "\n",
        "  def forward(self,x):\n",
        "    x = self.input(x)\n",
        "    x = x.reshape([-1, 32, 7, 7])\n",
        "    x = torch.relu(self.bn1(self.layer1(x)))\n",
        "    x = torch.relu(self.bn2(self.layer2(x)))\n",
        "    x = self.last(self.postP(x))\n",
        "    return x"
      ],
      "metadata": {
        "id": "W5ez13P5FklT"
      },
      "execution_count": 6,
      "outputs": []
    },
    {
      "cell_type": "markdown",
      "source": [
        "## Lets test the encoder and decoder output"
      ],
      "metadata": {
        "id": "zyOxLlm-hgB7"
      }
    },
    {
      "cell_type": "code",
      "source": [
        "encoder = Encoder(50)\n",
        "decoder = Decoder(50)\n",
        "x = torch.randn(8,3,32,32)\n",
        "mu, logsigma = encoder(x)\n",
        "print(mu.shape)\n",
        "x = decoder(mu + logsigma)\n",
        "print(x.shape)\n",
        "print(encoder.summary(input_size = (8,3,32,32)))\n",
        "print(decoder.summary(input_size = (8,50)))"
      ],
      "metadata": {
        "id": "wlUYh7VdK4Dq",
        "outputId": "1b87ce60-fa69-4c07-f931-1128ffd0b8b5",
        "colab": {
          "base_uri": "https://localhost:8080/"
        }
      },
      "execution_count": 7,
      "outputs": [
        {
          "output_type": "stream",
          "name": "stdout",
          "text": [
            "torch.Size([8, 50])\n",
            "torch.Size([8, 3, 32, 32])\n",
            "==========================================================================================\n",
            "Layer (type:depth-idx)                   Output Shape              Param #\n",
            "==========================================================================================\n",
            "Encoder                                  [8, 50]                   --\n",
            "├─Conv2d: 1-1                            [8, 16, 15, 15]           448\n",
            "├─BatchNorm2d: 1-2                       [8, 16, 15, 15]           32\n",
            "├─Conv2d: 1-3                            [8, 32, 7, 7]             4,640\n",
            "├─BatchNorm2d: 1-4                       [8, 32, 7, 7]             64\n",
            "├─Linear: 1-5                            [8, 50]                   78,450\n",
            "├─Linear: 1-6                            [8, 50]                   78,450\n",
            "==========================================================================================\n",
            "Total params: 162,084\n",
            "Trainable params: 162,084\n",
            "Non-trainable params: 0\n",
            "Total mult-adds (M): 3.88\n",
            "==========================================================================================\n",
            "Input size (MB): 0.10\n",
            "Forward/backward pass size (MB): 0.67\n",
            "Params size (MB): 0.65\n",
            "Estimated Total Size (MB): 1.41\n",
            "==========================================================================================\n",
            "==========================================================================================\n",
            "Layer (type:depth-idx)                   Output Shape              Param #\n",
            "==========================================================================================\n",
            "Decoder                                  [8, 3, 32, 32]            --\n",
            "├─Linear: 1-1                            [8, 1568]                 79,968\n",
            "├─ConvTranspose2d: 1-2                   [8, 16, 15, 15]           4,624\n",
            "├─BatchNorm2d: 1-3                       [8, 16, 15, 15]           32\n",
            "├─ConvTranspose2d: 1-4                   [8, 16, 32, 32]           4,112\n",
            "├─BatchNorm2d: 1-5                       [8, 16, 32, 32]           32\n",
            "├─Conv2dBlock: 1-6                       [8, 3, 32, 32]            --\n",
            "│    └─Conv2d: 2-1                       [8, 3, 32, 32]            432\n",
            "│    └─BatchNorm2d: 2-2                  [8, 3, 32, 32]            6\n",
            "│    └─ReLU: 2-3                         [8, 3, 32, 32]            --\n",
            "├─Conv2d: 1-7                            [8, 3, 32, 32]            84\n",
            "==========================================================================================\n",
            "Total params: 89,290\n",
            "Trainable params: 89,290\n",
            "Non-trainable params: 0\n",
            "Total mult-adds (M): 46.88\n",
            "==========================================================================================\n",
            "Input size (MB): 0.00\n",
            "Forward/backward pass size (MB): 3.25\n",
            "Params size (MB): 0.36\n",
            "Estimated Total Size (MB): 3.61\n",
            "==========================================================================================\n"
          ]
        }
      ]
    },
    {
      "cell_type": "markdown",
      "source": [
        "## Create VAE Module"
      ],
      "metadata": {
        "id": "T7yyY4AzhtKJ"
      }
    },
    {
      "cell_type": "code",
      "source": [
        "class VAE(nn.Module):\n",
        "  def __init__(self, hidden_dim):\n",
        "    super(VAE, self).__init__()\n",
        "    self.hidden_dim = hidden_dim\n",
        "    self.encoder = Encoder(hidden_dim)\n",
        "    self.decoder = Decoder(hidden_dim)\n",
        "  def forward(self,x):\n",
        "    mu, logsigma = self.encode(x)\n",
        "    out = self.reparameterize(mu, logsigma)\n",
        "    return self.decode(out), mu, logsigma\n",
        "  def reparameterize(self, mean, logsigma):\n",
        "    batch, hidden_dim = mean.shape\n",
        "    epsilon = torch.randn((batch, hidden_dim), device=self.device)\n",
        "    z = mean + torch.exp(0.5*logsigma) * epsilon\n",
        "    return z\n",
        "  def encode(self, x):\n",
        "    return self.encoder(x)\n",
        "  def decode(self, z):\n",
        "    return self.decoder(z)\n",
        "  def sample(self, num_samples):\n",
        "    z = torch.randn(num_samples,self.hidden_dim, device=self.device)\n",
        "    samples = self.decode(z)\n",
        "    return samples\n",
        "\n",
        "  # VAE uses a special loss function, so we need to edit the training loop logit\n",
        "  @classmethod\n",
        "  def train_epoch(cls, net, criterion, trainloader, optimizer, epoch_idx, device='cuda', config=None):\n",
        "      \"\"\"This is the very basic training function for one epoch. Override this function when necessary\n",
        "      Returns:\n",
        "          (float): train_loss\n",
        "      Note:\n",
        "          criterion is the `_lossfn`\n",
        "      \"\"\"\n",
        "      net.train()\n",
        "      train_loss = 0\n",
        "      pbar = tqdm(enumerate(trainloader), total=len(trainloader))\n",
        "      for batch_idx, (inputs, targets) in pbar:\n",
        "          inputs, targets = inputs.to(device), targets.to(device)\n",
        "          optimizer.zero_grad()\n",
        "          recon, mu, logsigma = net(inputs) #Changed\n",
        "          loss = criterion(recon, inputs, mu, logsigma) #Changed\n",
        "          loss.backward()\n",
        "          optimizer.step()\n",
        "          train_loss += loss.item()\n",
        "\n",
        "          pbar.set_description(\n",
        "              f\"epoch {epoch_idx+1} iter {batch_idx}: train loss {loss.item():.5f}.\")\n",
        "      return train_loss/(batch_idx+1)\n",
        "\n",
        "  # Do the same on the testing loop\n",
        "  @classmethod\n",
        "  def test_epoch(cls, net, criterion, testloader, epoch_idx=0, device='cuda', config=None):\n",
        "      \"\"\"This is the very basic evaluating function for one epoch. Override this function when necessary\n",
        "          \n",
        "      Returns:\n",
        "          (float): eval_loss\n",
        "      \"\"\"\n",
        "      net.eval()\n",
        "      train_loss = 0\n",
        "      with torch.inference_mode():\n",
        "          for batch_idx, (inputs, targets) in enumerate(testloader):\n",
        "              inputs, targets = inputs.to(device), targets.to(device)\n",
        "              recon, mu, logsigma = net(inputs) #Changed\n",
        "              loss = criterion(recon, inputs, mu, logsigma) #Changed\n",
        "              train_loss += loss.item()\n",
        "      return train_loss/(batch_idx+1)"
      ],
      "metadata": {
        "id": "gmCrP20GQpGn"
      },
      "execution_count": 8,
      "outputs": []
    },
    {
      "cell_type": "markdown",
      "source": [
        "## VAE speical loss function"
      ],
      "metadata": {
        "id": "QtnWLOREhv92"
      }
    },
    {
      "cell_type": "code",
      "source": [
        "def vae_loss_function(x_recon, x, mu, logsigma, kl_weight=0.0005):\n",
        "  # latent_loss = torch.mean(0.5 * torch.sum(torch.exp(logsigma) + torch.square(mu) - 1.0 - logsigma, axis=1))\n",
        "  latent_loss = torch.mean(0.5 * (torch.exp(logsigma) + torch.square(mu) - 1.0 - logsigma))\n",
        "  reconstruction_loss = F.mse_loss(x_recon, x)\n",
        "  vae_loss = kl_weight * latent_loss + reconstruction_loss\n",
        "  return vae_loss"
      ],
      "metadata": {
        "id": "2fUdnuo0ZKhY"
      },
      "execution_count": 9,
      "outputs": []
    },
    {
      "cell_type": "markdown",
      "source": [
        "# Init Model"
      ],
      "metadata": {
        "id": "2Af6m0w0hyIp"
      }
    },
    {
      "cell_type": "code",
      "source": [
        "# Model\n",
        "net = VAE(1024)\n",
        "\n",
        "# Loss & Optimizer & Config\n",
        "net._optimizer = torch.optim.Adam(net.parameters(), lr=0.005)\n",
        "net._lossfn = vae_loss_function\n",
        "net._config['max_epoch'] = 100\n",
        "net._lr_scheduler = torch.optim.lr_scheduler.CosineAnnealingLR(net._optimizer, T_max = net._config['max_epoch'])\n",
        "\n",
        "# Set GPU\n",
        "device = net.auto_gpu()"
      ],
      "metadata": {
        "id": "gk-jyYZjbFtn",
        "outputId": "8e86092d-c3a2-4952-9f09-4ef3d22c5599",
        "colab": {
          "base_uri": "https://localhost:8080/"
        }
      },
      "execution_count": 10,
      "outputs": [
        {
          "output_type": "stream",
          "name": "stdout",
          "text": [
            "auto_gpu: using GPU\n"
          ]
        }
      ]
    },
    {
      "cell_type": "markdown",
      "source": [
        "# Training"
      ],
      "metadata": {
        "id": "tBUAKi1hh3jN"
      }
    },
    {
      "cell_type": "code",
      "source": [
        "# Fit\n",
        "net.train()\n",
        "net.fit(train_loader, validation_data = test_loader)"
      ],
      "metadata": {
        "id": "eTK1XcfabM1t",
        "outputId": "412e98fc-2fd5-4d3f-c469-f1fdbe8d4fca",
        "colab": {
          "base_uri": "https://localhost:8080/"
        }
      },
      "execution_count": 11,
      "outputs": [
        {
          "output_type": "stream",
          "name": "stderr",
          "text": [
            "epoch 1 iter 311: train loss 0.34963.: 100%|██████████| 312/312 [00:07<00:00, 43.19it/s]\n"
          ]
        },
        {
          "output_type": "stream",
          "name": "stdout",
          "text": [
            "Epoch 0: Training loss: 0.44926388752766144. Testing loss: 0.02879953246203161\n"
          ]
        },
        {
          "output_type": "stream",
          "name": "stderr",
          "text": [
            "epoch 2 iter 311: train loss 0.29289.: 100%|██████████| 312/312 [00:07<00:00, 43.21it/s]\n"
          ]
        },
        {
          "output_type": "stream",
          "name": "stdout",
          "text": [
            "Epoch 1: Training loss: 0.2969557558401273. Testing loss: 0.023966571376208338\n"
          ]
        },
        {
          "output_type": "stream",
          "name": "stderr",
          "text": [
            "epoch 3 iter 311: train loss 0.33243.: 100%|██████████| 312/312 [00:05<00:00, 60.26it/s]\n"
          ]
        },
        {
          "output_type": "stream",
          "name": "stdout",
          "text": [
            "Epoch 2: Training loss: 0.291527863448629. Testing loss: 0.023171387883203644\n"
          ]
        },
        {
          "output_type": "stream",
          "name": "stderr",
          "text": [
            "epoch 4 iter 311: train loss 0.18915.: 100%|██████████| 312/312 [00:05<00:00, 59.49it/s]\n"
          ]
        },
        {
          "output_type": "stream",
          "name": "stdout",
          "text": [
            "Epoch 3: Training loss: 0.22930948355067998. Testing loss: 0.019800129556848158\n"
          ]
        },
        {
          "output_type": "stream",
          "name": "stderr",
          "text": [
            "epoch 5 iter 311: train loss 0.15423.: 100%|██████████| 312/312 [00:05<00:00, 59.69it/s]\n"
          ]
        },
        {
          "output_type": "stream",
          "name": "stdout",
          "text": [
            "Epoch 4: Training loss: 0.210547820927623. Testing loss: 0.02112672327747268\n"
          ]
        },
        {
          "output_type": "stream",
          "name": "stderr",
          "text": [
            "epoch 6 iter 311: train loss 0.19174.: 100%|██████████| 312/312 [00:05<00:00, 60.06it/s]\n"
          ]
        },
        {
          "output_type": "stream",
          "name": "stdout",
          "text": [
            "Epoch 5: Training loss: 0.19645247957072196. Testing loss: 0.02352868441131807\n"
          ]
        },
        {
          "output_type": "stream",
          "name": "stderr",
          "text": [
            "epoch 7 iter 311: train loss 0.17528.: 100%|██████████| 312/312 [00:05<00:00, 59.12it/s]\n"
          ]
        },
        {
          "output_type": "stream",
          "name": "stdout",
          "text": [
            "Epoch 6: Training loss: 0.18273646687754455. Testing loss: 0.031820679023381204\n"
          ]
        },
        {
          "output_type": "stream",
          "name": "stderr",
          "text": [
            "epoch 8 iter 311: train loss 0.22284.: 100%|██████████| 312/312 [00:05<00:00, 58.42it/s]\n"
          ]
        },
        {
          "output_type": "stream",
          "name": "stdout",
          "text": [
            "Epoch 7: Training loss: 0.17866791863567555. Testing loss: 0.013453002883902481\n"
          ]
        },
        {
          "output_type": "stream",
          "name": "stderr",
          "text": [
            "epoch 9 iter 311: train loss 0.14296.: 100%|██████████| 312/312 [00:05<00:00, 58.27it/s]\n"
          ]
        },
        {
          "output_type": "stream",
          "name": "stdout",
          "text": [
            "Epoch 8: Training loss: 0.17276376941933846. Testing loss: 0.018670389458777442\n"
          ]
        },
        {
          "output_type": "stream",
          "name": "stderr",
          "text": [
            "epoch 10 iter 311: train loss 0.13942.: 100%|██████████| 312/312 [00:05<00:00, 57.66it/s]\n"
          ]
        },
        {
          "output_type": "stream",
          "name": "stdout",
          "text": [
            "Epoch 9: Training loss: 0.16758747236468854. Testing loss: 0.04965034235389002\n"
          ]
        },
        {
          "output_type": "stream",
          "name": "stderr",
          "text": [
            "epoch 11 iter 311: train loss 0.13407.: 100%|██████████| 312/312 [00:05<00:00, 57.22it/s]\n"
          ]
        },
        {
          "output_type": "stream",
          "name": "stdout",
          "text": [
            "Epoch 10: Training loss: 0.16239687191465726. Testing loss: 0.01351235066390326\n"
          ]
        },
        {
          "output_type": "stream",
          "name": "stderr",
          "text": [
            "epoch 12 iter 311: train loss 0.15352.: 100%|██████████| 312/312 [00:05<00:00, 57.86it/s]\n"
          ]
        },
        {
          "output_type": "stream",
          "name": "stdout",
          "text": [
            "Epoch 11: Training loss: 0.16535677149509773. Testing loss: 0.03627855547012821\n"
          ]
        },
        {
          "output_type": "stream",
          "name": "stderr",
          "text": [
            "epoch 13 iter 311: train loss 0.12792.: 100%|██████████| 312/312 [00:05<00:00, 59.92it/s]\n"
          ]
        },
        {
          "output_type": "stream",
          "name": "stdout",
          "text": [
            "Epoch 12: Training loss: 0.15795847606391478. Testing loss: 0.01465381066044492\n"
          ]
        },
        {
          "output_type": "stream",
          "name": "stderr",
          "text": [
            "epoch 14 iter 311: train loss 0.14295.: 100%|██████████| 312/312 [00:05<00:00, 59.09it/s]\n"
          ]
        },
        {
          "output_type": "stream",
          "name": "stdout",
          "text": [
            "Epoch 13: Training loss: 0.1526645316909521. Testing loss: 0.02138837453939261\n"
          ]
        },
        {
          "output_type": "stream",
          "name": "stderr",
          "text": [
            "epoch 15 iter 311: train loss 0.15402.: 100%|██████████| 312/312 [00:05<00:00, 57.64it/s]\n"
          ]
        },
        {
          "output_type": "stream",
          "name": "stdout",
          "text": [
            "Epoch 14: Training loss: 0.15086977377247351. Testing loss: 0.015503172957969288\n"
          ]
        },
        {
          "output_type": "stream",
          "name": "stderr",
          "text": [
            "epoch 16 iter 311: train loss 0.13757.: 100%|██████████| 312/312 [00:05<00:00, 59.46it/s]\n"
          ]
        },
        {
          "output_type": "stream",
          "name": "stdout",
          "text": [
            "Epoch 15: Training loss: 0.14570187777280807. Testing loss: 0.01724568545638073\n"
          ]
        },
        {
          "output_type": "stream",
          "name": "stderr",
          "text": [
            "epoch 17 iter 311: train loss 0.13040.: 100%|██████████| 312/312 [00:05<00:00, 58.80it/s]\n"
          ]
        },
        {
          "output_type": "stream",
          "name": "stdout",
          "text": [
            "Epoch 16: Training loss: 0.1473958608813775. Testing loss: 0.015490532972879948\n"
          ]
        },
        {
          "output_type": "stream",
          "name": "stderr",
          "text": [
            "epoch 18 iter 311: train loss 0.14411.: 100%|██████████| 312/312 [00:06<00:00, 51.57it/s]\n"
          ]
        },
        {
          "output_type": "stream",
          "name": "stdout",
          "text": [
            "Epoch 17: Training loss: 0.14319371704298717. Testing loss: 0.017215687225783063\n"
          ]
        },
        {
          "output_type": "stream",
          "name": "stderr",
          "text": [
            "epoch 19 iter 311: train loss 0.18974.: 100%|██████████| 312/312 [00:05<00:00, 58.27it/s]\n"
          ]
        },
        {
          "output_type": "stream",
          "name": "stdout",
          "text": [
            "Epoch 18: Training loss: 0.14368377559078047. Testing loss: 0.01726283403413911\n"
          ]
        },
        {
          "output_type": "stream",
          "name": "stderr",
          "text": [
            "epoch 20 iter 311: train loss 0.11999.: 100%|██████████| 312/312 [00:05<00:00, 56.75it/s]\n"
          ]
        },
        {
          "output_type": "stream",
          "name": "stdout",
          "text": [
            "Epoch 19: Training loss: 0.1392163556928818. Testing loss: 0.014399248671026961\n"
          ]
        },
        {
          "output_type": "stream",
          "name": "stderr",
          "text": [
            "epoch 21 iter 311: train loss 0.18649.: 100%|██████████| 312/312 [00:05<00:00, 57.02it/s]\n"
          ]
        },
        {
          "output_type": "stream",
          "name": "stdout",
          "text": [
            "Epoch 20: Training loss: 0.13517775238515475. Testing loss: 0.012810262370734446\n"
          ]
        },
        {
          "output_type": "stream",
          "name": "stderr",
          "text": [
            "epoch 22 iter 311: train loss 0.14428.: 100%|██████████| 312/312 [00:05<00:00, 58.08it/s]\n"
          ]
        },
        {
          "output_type": "stream",
          "name": "stdout",
          "text": [
            "Epoch 21: Training loss: 0.134913484327113. Testing loss: 0.015117897051236322\n"
          ]
        },
        {
          "output_type": "stream",
          "name": "stderr",
          "text": [
            "epoch 23 iter 311: train loss 0.12572.: 100%|██████████| 312/312 [00:05<00:00, 58.12it/s]\n"
          ]
        },
        {
          "output_type": "stream",
          "name": "stdout",
          "text": [
            "Epoch 22: Training loss: 0.1342611873570161. Testing loss: 0.01672612853167999\n"
          ]
        },
        {
          "output_type": "stream",
          "name": "stderr",
          "text": [
            "epoch 24 iter 311: train loss 0.10804.: 100%|██████████| 312/312 [00:05<00:00, 57.12it/s]\n"
          ]
        },
        {
          "output_type": "stream",
          "name": "stdout",
          "text": [
            "Epoch 23: Training loss: 0.12847585558222654. Testing loss: 0.011815669105177926\n"
          ]
        },
        {
          "output_type": "stream",
          "name": "stderr",
          "text": [
            "epoch 25 iter 311: train loss 0.13134.: 100%|██████████| 312/312 [00:05<00:00, 57.58it/s]\n"
          ]
        },
        {
          "output_type": "stream",
          "name": "stdout",
          "text": [
            "Epoch 24: Training loss: 0.12988559531573302. Testing loss: 0.016523303223713752\n"
          ]
        },
        {
          "output_type": "stream",
          "name": "stderr",
          "text": [
            "epoch 26 iter 311: train loss 0.15995.: 100%|██████████| 312/312 [00:05<00:00, 57.67it/s]\n"
          ]
        },
        {
          "output_type": "stream",
          "name": "stdout",
          "text": [
            "Epoch 25: Training loss: 0.12544092077475327. Testing loss: 0.014733860118975562\n"
          ]
        },
        {
          "output_type": "stream",
          "name": "stderr",
          "text": [
            "epoch 27 iter 311: train loss 0.14689.: 100%|██████████| 312/312 [00:05<00:00, 57.65it/s]\n"
          ]
        },
        {
          "output_type": "stream",
          "name": "stdout",
          "text": [
            "Epoch 26: Training loss: 0.12180767158189645. Testing loss: 0.013930801707770555\n"
          ]
        },
        {
          "output_type": "stream",
          "name": "stderr",
          "text": [
            "epoch 28 iter 311: train loss 0.11319.: 100%|██████████| 312/312 [00:05<00:00, 58.69it/s]\n"
          ]
        },
        {
          "output_type": "stream",
          "name": "stdout",
          "text": [
            "Epoch 27: Training loss: 0.12691053134413102. Testing loss: 0.010715720814562613\n"
          ]
        },
        {
          "output_type": "stream",
          "name": "stderr",
          "text": [
            "epoch 29 iter 311: train loss 0.14006.: 100%|██████████| 312/312 [00:05<00:00, 58.74it/s]\n"
          ]
        },
        {
          "output_type": "stream",
          "name": "stdout",
          "text": [
            "Epoch 28: Training loss: 0.11981676652645454. Testing loss: 0.011812694445853271\n"
          ]
        },
        {
          "output_type": "stream",
          "name": "stderr",
          "text": [
            "epoch 30 iter 311: train loss 0.09433.: 100%|██████████| 312/312 [00:05<00:00, 58.61it/s]\n"
          ]
        },
        {
          "output_type": "stream",
          "name": "stdout",
          "text": [
            "Epoch 29: Training loss: 0.11861293488301528. Testing loss: 0.012490276502625595\n"
          ]
        },
        {
          "output_type": "stream",
          "name": "stderr",
          "text": [
            "epoch 31 iter 311: train loss 0.11097.: 100%|██████████| 312/312 [00:05<00:00, 58.59it/s]\n"
          ]
        },
        {
          "output_type": "stream",
          "name": "stdout",
          "text": [
            "Epoch 30: Training loss: 0.11978514146250792. Testing loss: 0.011057135273492145\n"
          ]
        },
        {
          "output_type": "stream",
          "name": "stderr",
          "text": [
            "epoch 32 iter 311: train loss 0.10830.: 100%|██████████| 312/312 [00:05<00:00, 58.78it/s]\n"
          ]
        },
        {
          "output_type": "stream",
          "name": "stdout",
          "text": [
            "Epoch 31: Training loss: 0.11938778872195727. Testing loss: 0.012007077404808613\n"
          ]
        },
        {
          "output_type": "stream",
          "name": "stderr",
          "text": [
            "epoch 33 iter 311: train loss 0.09300.: 100%|██████████| 312/312 [00:05<00:00, 59.01it/s]\n"
          ]
        },
        {
          "output_type": "stream",
          "name": "stdout",
          "text": [
            "Epoch 32: Training loss: 0.11739130234584594. Testing loss: 0.013630452565848827\n"
          ]
        },
        {
          "output_type": "stream",
          "name": "stderr",
          "text": [
            "epoch 34 iter 311: train loss 0.16674.: 100%|██████████| 312/312 [00:05<00:00, 55.86it/s]\n"
          ]
        },
        {
          "output_type": "stream",
          "name": "stdout",
          "text": [
            "Epoch 33: Training loss: 0.1177154089539097. Testing loss: 0.008963653547388891\n"
          ]
        },
        {
          "output_type": "stream",
          "name": "stderr",
          "text": [
            "epoch 35 iter 311: train loss 0.12991.: 100%|██████████| 312/312 [00:05<00:00, 58.44it/s]\n"
          ]
        },
        {
          "output_type": "stream",
          "name": "stdout",
          "text": [
            "Epoch 34: Training loss: 0.11334275884123948. Testing loss: 0.01097451054280804\n"
          ]
        },
        {
          "output_type": "stream",
          "name": "stderr",
          "text": [
            "epoch 36 iter 311: train loss 0.16454.: 100%|██████████| 312/312 [00:05<00:00, 58.39it/s]\n"
          ]
        },
        {
          "output_type": "stream",
          "name": "stdout",
          "text": [
            "Epoch 35: Training loss: 0.11548688563589866. Testing loss: 0.011103054733886834\n"
          ]
        },
        {
          "output_type": "stream",
          "name": "stderr",
          "text": [
            "epoch 37 iter 311: train loss 0.10699.: 100%|██████████| 312/312 [00:05<00:00, 59.60it/s]\n"
          ]
        },
        {
          "output_type": "stream",
          "name": "stdout",
          "text": [
            "Epoch 36: Training loss: 0.11157715127158624. Testing loss: 0.012523311550819104\n"
          ]
        },
        {
          "output_type": "stream",
          "name": "stderr",
          "text": [
            "epoch 38 iter 311: train loss 0.12334.: 100%|██████████| 312/312 [00:05<00:00, 60.09it/s]\n"
          ]
        },
        {
          "output_type": "stream",
          "name": "stdout",
          "text": [
            "Epoch 37: Training loss: 0.1099982965642061. Testing loss: 0.010344633757467232\n"
          ]
        },
        {
          "output_type": "stream",
          "name": "stderr",
          "text": [
            "epoch 39 iter 311: train loss 0.10903.: 100%|██████████| 312/312 [00:05<00:00, 60.52it/s]\n"
          ]
        },
        {
          "output_type": "stream",
          "name": "stdout",
          "text": [
            "Epoch 38: Training loss: 0.11082594402325459. Testing loss: 0.009356132438105921\n"
          ]
        },
        {
          "output_type": "stream",
          "name": "stderr",
          "text": [
            "epoch 40 iter 311: train loss 0.11614.: 100%|██████████| 312/312 [00:05<00:00, 60.42it/s]\n"
          ]
        },
        {
          "output_type": "stream",
          "name": "stdout",
          "text": [
            "Epoch 39: Training loss: 0.10634775220965728. Testing loss: 0.023330229004063913\n"
          ]
        },
        {
          "output_type": "stream",
          "name": "stderr",
          "text": [
            "epoch 41 iter 311: train loss 0.10343.: 100%|██████████| 312/312 [00:05<00:00, 60.28it/s]\n"
          ]
        },
        {
          "output_type": "stream",
          "name": "stdout",
          "text": [
            "Epoch 40: Training loss: 0.11038729479202093. Testing loss: 0.010924111150445477\n"
          ]
        },
        {
          "output_type": "stream",
          "name": "stderr",
          "text": [
            "epoch 42 iter 311: train loss 0.09875.: 100%|██████████| 312/312 [00:05<00:00, 60.25it/s]\n"
          ]
        },
        {
          "output_type": "stream",
          "name": "stdout",
          "text": [
            "Epoch 41: Training loss: 0.10866007158676019. Testing loss: 0.011452414515999055\n"
          ]
        },
        {
          "output_type": "stream",
          "name": "stderr",
          "text": [
            "epoch 43 iter 311: train loss 0.11195.: 100%|██████████| 312/312 [00:05<00:00, 60.54it/s]\n"
          ]
        },
        {
          "output_type": "stream",
          "name": "stdout",
          "text": [
            "Epoch 42: Training loss: 0.10586709779902147. Testing loss: 0.009842461786202846\n"
          ]
        },
        {
          "output_type": "stream",
          "name": "stderr",
          "text": [
            "epoch 44 iter 311: train loss 0.09302.: 100%|██████████| 312/312 [00:05<00:00, 61.29it/s]\n"
          ]
        },
        {
          "output_type": "stream",
          "name": "stdout",
          "text": [
            "Epoch 43: Training loss: 0.10584862131434374. Testing loss: 0.009117509260953914\n"
          ]
        },
        {
          "output_type": "stream",
          "name": "stderr",
          "text": [
            "epoch 45 iter 311: train loss 0.12774.: 100%|██████████| 312/312 [00:05<00:00, 61.08it/s]\n"
          ]
        },
        {
          "output_type": "stream",
          "name": "stdout",
          "text": [
            "Epoch 44: Training loss: 0.10436514674279934. Testing loss: 0.010223265752316482\n"
          ]
        },
        {
          "output_type": "stream",
          "name": "stderr",
          "text": [
            "epoch 46 iter 311: train loss 0.07661.: 100%|██████████| 312/312 [00:05<00:00, 60.20it/s]\n"
          ]
        },
        {
          "output_type": "stream",
          "name": "stdout",
          "text": [
            "Epoch 45: Training loss: 0.10583069879943743. Testing loss: 0.011447915582046393\n"
          ]
        },
        {
          "output_type": "stream",
          "name": "stderr",
          "text": [
            "epoch 47 iter 311: train loss 0.09029.: 100%|██████████| 312/312 [00:05<00:00, 59.95it/s]\n"
          ]
        },
        {
          "output_type": "stream",
          "name": "stdout",
          "text": [
            "Epoch 46: Training loss: 0.1043607723684265. Testing loss: 0.01175619158593397\n"
          ]
        },
        {
          "output_type": "stream",
          "name": "stderr",
          "text": [
            "epoch 48 iter 311: train loss 0.14325.: 100%|██████████| 312/312 [00:05<00:00, 61.05it/s]\n"
          ]
        },
        {
          "output_type": "stream",
          "name": "stdout",
          "text": [
            "Epoch 47: Training loss: 0.1023763204471041. Testing loss: 0.008964572544960726\n"
          ]
        },
        {
          "output_type": "stream",
          "name": "stderr",
          "text": [
            "epoch 49 iter 311: train loss 0.15014.: 100%|██████████| 312/312 [00:05<00:00, 60.15it/s]\n"
          ]
        },
        {
          "output_type": "stream",
          "name": "stdout",
          "text": [
            "Epoch 48: Training loss: 0.10133850634193574. Testing loss: 0.009518643060038167\n"
          ]
        },
        {
          "output_type": "stream",
          "name": "stderr",
          "text": [
            "epoch 50 iter 311: train loss 0.18401.: 100%|██████████| 312/312 [00:05<00:00, 58.20it/s]\n"
          ]
        },
        {
          "output_type": "stream",
          "name": "stdout",
          "text": [
            "Epoch 49: Training loss: 0.09916800199649654. Testing loss: 0.009295572121176989\n"
          ]
        },
        {
          "output_type": "stream",
          "name": "stderr",
          "text": [
            "epoch 51 iter 311: train loss 0.09396.: 100%|██████████| 312/312 [00:05<00:00, 58.41it/s]\n"
          ]
        },
        {
          "output_type": "stream",
          "name": "stdout",
          "text": [
            "Epoch 50: Training loss: 0.09898215004553397. Testing loss: 0.009200505859729263\n"
          ]
        },
        {
          "output_type": "stream",
          "name": "stderr",
          "text": [
            "epoch 52 iter 311: train loss 0.10238.: 100%|██████████| 312/312 [00:05<00:00, 59.98it/s]\n"
          ]
        },
        {
          "output_type": "stream",
          "name": "stdout",
          "text": [
            "Epoch 51: Training loss: 0.09931052266023098. Testing loss: 0.009652173281797478\n"
          ]
        },
        {
          "output_type": "stream",
          "name": "stderr",
          "text": [
            "epoch 53 iter 311: train loss 0.11700.: 100%|██████████| 312/312 [00:05<00:00, 61.33it/s]\n"
          ]
        },
        {
          "output_type": "stream",
          "name": "stdout",
          "text": [
            "Epoch 52: Training loss: 0.09748455121492346. Testing loss: 0.009926054341297957\n"
          ]
        },
        {
          "output_type": "stream",
          "name": "stderr",
          "text": [
            "epoch 54 iter 311: train loss 0.11251.: 100%|██████████| 312/312 [00:05<00:00, 61.52it/s]\n"
          ]
        },
        {
          "output_type": "stream",
          "name": "stdout",
          "text": [
            "Epoch 53: Training loss: 0.0964025822468102. Testing loss: 0.01017170651785789\n"
          ]
        },
        {
          "output_type": "stream",
          "name": "stderr",
          "text": [
            "epoch 55 iter 311: train loss 0.09003.: 100%|██████████| 312/312 [00:05<00:00, 61.01it/s]\n"
          ]
        },
        {
          "output_type": "stream",
          "name": "stdout",
          "text": [
            "Epoch 54: Training loss: 0.09625122908693858. Testing loss: 0.010143926262014335\n"
          ]
        },
        {
          "output_type": "stream",
          "name": "stderr",
          "text": [
            "epoch 56 iter 311: train loss 0.07608.: 100%|██████████| 312/312 [00:05<00:00, 60.38it/s]\n"
          ]
        },
        {
          "output_type": "stream",
          "name": "stdout",
          "text": [
            "Epoch 55: Training loss: 0.09679952410694498. Testing loss: 0.010775418606616797\n"
          ]
        },
        {
          "output_type": "stream",
          "name": "stderr",
          "text": [
            "epoch 57 iter 311: train loss 0.10432.: 100%|██████████| 312/312 [00:05<00:00, 59.68it/s]\n"
          ]
        },
        {
          "output_type": "stream",
          "name": "stdout",
          "text": [
            "Epoch 56: Training loss: 0.09594662555565055. Testing loss: 0.011694643496265334\n"
          ]
        },
        {
          "output_type": "stream",
          "name": "stderr",
          "text": [
            "epoch 58 iter 311: train loss 0.07248.: 100%|██████████| 312/312 [00:05<00:00, 58.07it/s]\n"
          ]
        },
        {
          "output_type": "stream",
          "name": "stdout",
          "text": [
            "Epoch 57: Training loss: 0.09495532806389607. Testing loss: 0.010538843220039722\n"
          ]
        },
        {
          "output_type": "stream",
          "name": "stderr",
          "text": [
            "epoch 59 iter 311: train loss 0.06305.: 100%|██████████| 312/312 [00:05<00:00, 57.05it/s]\n"
          ]
        },
        {
          "output_type": "stream",
          "name": "stdout",
          "text": [
            "Epoch 58: Training loss: 0.09268710849424586. Testing loss: 0.007988771716613443\n"
          ]
        },
        {
          "output_type": "stream",
          "name": "stderr",
          "text": [
            "epoch 60 iter 311: train loss 0.08233.: 100%|██████████| 312/312 [00:05<00:00, 59.27it/s]\n"
          ]
        },
        {
          "output_type": "stream",
          "name": "stdout",
          "text": [
            "Epoch 59: Training loss: 0.09395939757665381. Testing loss: 0.008796390716827685\n"
          ]
        },
        {
          "output_type": "stream",
          "name": "stderr",
          "text": [
            "epoch 61 iter 311: train loss 0.11074.: 100%|██████████| 312/312 [00:05<00:00, 60.36it/s]\n"
          ]
        },
        {
          "output_type": "stream",
          "name": "stdout",
          "text": [
            "Epoch 60: Training loss: 0.09375722042452066. Testing loss: 0.00968310543366017\n"
          ]
        },
        {
          "output_type": "stream",
          "name": "stderr",
          "text": [
            "epoch 62 iter 311: train loss 0.10345.: 100%|██████████| 312/312 [00:05<00:00, 59.61it/s]\n"
          ]
        },
        {
          "output_type": "stream",
          "name": "stdout",
          "text": [
            "Epoch 61: Training loss: 0.09378243531458653. Testing loss: 0.007989044143487849\n"
          ]
        },
        {
          "output_type": "stream",
          "name": "stderr",
          "text": [
            "epoch 63 iter 311: train loss 0.08722.: 100%|██████████| 312/312 [00:05<00:00, 59.60it/s]\n"
          ]
        },
        {
          "output_type": "stream",
          "name": "stdout",
          "text": [
            "Epoch 62: Training loss: 0.09130948940769602. Testing loss: 0.008307881780990189\n"
          ]
        },
        {
          "output_type": "stream",
          "name": "stderr",
          "text": [
            "epoch 64 iter 311: train loss 0.08135.: 100%|██████████| 312/312 [00:05<00:00, 60.71it/s]\n"
          ]
        },
        {
          "output_type": "stream",
          "name": "stdout",
          "text": [
            "Epoch 63: Training loss: 0.09008577840928084. Testing loss: 0.008796851533735472\n"
          ]
        },
        {
          "output_type": "stream",
          "name": "stderr",
          "text": [
            "epoch 65 iter 311: train loss 0.08582.: 100%|██████████| 312/312 [00:05<00:00, 60.41it/s]\n"
          ]
        },
        {
          "output_type": "stream",
          "name": "stdout",
          "text": [
            "Epoch 64: Training loss: 0.09037639699780788. Testing loss: 0.007777806671877061\n"
          ]
        },
        {
          "output_type": "stream",
          "name": "stderr",
          "text": [
            "epoch 66 iter 311: train loss 0.08023.: 100%|██████████| 312/312 [00:05<00:00, 59.53it/s]\n"
          ]
        },
        {
          "output_type": "stream",
          "name": "stdout",
          "text": [
            "Epoch 65: Training loss: 0.08925689736572213. Testing loss: 0.008606599899189125\n"
          ]
        },
        {
          "output_type": "stream",
          "name": "stderr",
          "text": [
            "epoch 67 iter 311: train loss 0.11396.: 100%|██████████| 312/312 [00:05<00:00, 60.28it/s]\n"
          ]
        },
        {
          "output_type": "stream",
          "name": "stdout",
          "text": [
            "Epoch 66: Training loss: 0.09077647729561879. Testing loss: 0.00861494296470717\n"
          ]
        },
        {
          "output_type": "stream",
          "name": "stderr",
          "text": [
            "epoch 68 iter 311: train loss 0.10931.: 100%|██████████| 312/312 [00:05<00:00, 60.23it/s]\n"
          ]
        },
        {
          "output_type": "stream",
          "name": "stdout",
          "text": [
            "Epoch 67: Training loss: 0.09057915242961966. Testing loss: 0.009443002167127786\n"
          ]
        },
        {
          "output_type": "stream",
          "name": "stderr",
          "text": [
            "epoch 69 iter 311: train loss 0.07226.: 100%|██████████| 312/312 [00:05<00:00, 59.48it/s]\n"
          ]
        },
        {
          "output_type": "stream",
          "name": "stdout",
          "text": [
            "Epoch 68: Training loss: 0.08893369699422365. Testing loss: 0.009585055657812664\n"
          ]
        },
        {
          "output_type": "stream",
          "name": "stderr",
          "text": [
            "epoch 70 iter 311: train loss 0.10674.: 100%|██████████| 312/312 [00:05<00:00, 56.74it/s]\n"
          ]
        },
        {
          "output_type": "stream",
          "name": "stdout",
          "text": [
            "Epoch 69: Training loss: 0.08924074903226052. Testing loss: 0.013897313616208492\n"
          ]
        },
        {
          "output_type": "stream",
          "name": "stderr",
          "text": [
            "epoch 71 iter 311: train loss 0.10697.: 100%|██████████| 312/312 [00:05<00:00, 59.68it/s]\n"
          ]
        },
        {
          "output_type": "stream",
          "name": "stdout",
          "text": [
            "Epoch 70: Training loss: 0.08646090492271842. Testing loss: 0.007765027499126811\n"
          ]
        },
        {
          "output_type": "stream",
          "name": "stderr",
          "text": [
            "epoch 72 iter 311: train loss 0.11033.: 100%|██████████| 312/312 [00:05<00:00, 60.24it/s]\n"
          ]
        },
        {
          "output_type": "stream",
          "name": "stdout",
          "text": [
            "Epoch 71: Training loss: 0.08772100456870902. Testing loss: 0.008391984167598909\n"
          ]
        },
        {
          "output_type": "stream",
          "name": "stderr",
          "text": [
            "epoch 73 iter 311: train loss 0.07053.: 100%|██████████| 312/312 [00:05<00:00, 58.64it/s]\n"
          ]
        },
        {
          "output_type": "stream",
          "name": "stdout",
          "text": [
            "Epoch 72: Training loss: 0.08878026959987786. Testing loss: 0.01374618069178635\n"
          ]
        },
        {
          "output_type": "stream",
          "name": "stderr",
          "text": [
            "epoch 74 iter 311: train loss 0.08001.: 100%|██████████| 312/312 [00:05<00:00, 60.07it/s]\n"
          ]
        },
        {
          "output_type": "stream",
          "name": "stdout",
          "text": [
            "Epoch 73: Training loss: 0.08700317368866542. Testing loss: 0.008668475446381396\n"
          ]
        },
        {
          "output_type": "stream",
          "name": "stderr",
          "text": [
            "epoch 75 iter 311: train loss 0.07147.: 100%|██████████| 312/312 [00:05<00:00, 58.93it/s]\n"
          ]
        },
        {
          "output_type": "stream",
          "name": "stdout",
          "text": [
            "Epoch 74: Training loss: 0.08633623766497923. Testing loss: 0.008061494971174867\n"
          ]
        },
        {
          "output_type": "stream",
          "name": "stderr",
          "text": [
            "epoch 76 iter 311: train loss 0.10297.: 100%|██████████| 312/312 [00:05<00:00, 58.21it/s]\n"
          ]
        },
        {
          "output_type": "stream",
          "name": "stdout",
          "text": [
            "Epoch 75: Training loss: 0.0859447488656793. Testing loss: 0.007585193804134765\n"
          ]
        },
        {
          "output_type": "stream",
          "name": "stderr",
          "text": [
            "epoch 77 iter 311: train loss 0.10878.: 100%|██████████| 312/312 [00:05<00:00, 59.27it/s]\n"
          ]
        },
        {
          "output_type": "stream",
          "name": "stdout",
          "text": [
            "Epoch 76: Training loss: 0.08560431322369438. Testing loss: 0.01692472045279799\n"
          ]
        },
        {
          "output_type": "stream",
          "name": "stderr",
          "text": [
            "epoch 78 iter 311: train loss 0.08125.: 100%|██████████| 312/312 [00:05<00:00, 57.20it/s]\n"
          ]
        },
        {
          "output_type": "stream",
          "name": "stdout",
          "text": [
            "Epoch 77: Training loss: 0.0851278841161193. Testing loss: 0.009075504141829668\n"
          ]
        },
        {
          "output_type": "stream",
          "name": "stderr",
          "text": [
            "epoch 79 iter 311: train loss 0.09751.: 100%|██████████| 312/312 [00:05<00:00, 57.75it/s]\n"
          ]
        },
        {
          "output_type": "stream",
          "name": "stdout",
          "text": [
            "Epoch 78: Training loss: 0.08456846724192683. Testing loss: 0.007698470058159963\n"
          ]
        },
        {
          "output_type": "stream",
          "name": "stderr",
          "text": [
            "epoch 80 iter 311: train loss 0.06845.: 100%|██████████| 312/312 [00:05<00:00, 52.20it/s]\n"
          ]
        },
        {
          "output_type": "stream",
          "name": "stdout",
          "text": [
            "Epoch 79: Training loss: 0.08606005060032774. Testing loss: 0.0077373310022296445\n"
          ]
        },
        {
          "output_type": "stream",
          "name": "stderr",
          "text": [
            "epoch 81 iter 311: train loss 0.07827.: 100%|██████████| 312/312 [00:05<00:00, 55.76it/s]\n"
          ]
        },
        {
          "output_type": "stream",
          "name": "stdout",
          "text": [
            "Epoch 80: Training loss: 0.08361007387821491. Testing loss: 0.007375041263238076\n"
          ]
        },
        {
          "output_type": "stream",
          "name": "stderr",
          "text": [
            "epoch 82 iter 311: train loss 0.07587.: 100%|██████████| 312/312 [00:05<00:00, 56.00it/s]\n"
          ]
        },
        {
          "output_type": "stream",
          "name": "stdout",
          "text": [
            "Epoch 81: Training loss: 0.08326230190980893. Testing loss: 0.007593175321216544\n"
          ]
        },
        {
          "output_type": "stream",
          "name": "stderr",
          "text": [
            "epoch 83 iter 311: train loss 0.08508.: 100%|██████████| 312/312 [00:05<00:00, 55.99it/s]\n"
          ]
        },
        {
          "output_type": "stream",
          "name": "stdout",
          "text": [
            "Epoch 82: Training loss: 0.08325929121854596. Testing loss: 0.007780514439688095\n"
          ]
        },
        {
          "output_type": "stream",
          "name": "stderr",
          "text": [
            "epoch 84 iter 311: train loss 0.10388.: 100%|██████████| 312/312 [00:05<00:00, 58.26it/s]\n"
          ]
        },
        {
          "output_type": "stream",
          "name": "stdout",
          "text": [
            "Epoch 83: Training loss: 0.08321359216307218. Testing loss: 0.007927189017796227\n"
          ]
        },
        {
          "output_type": "stream",
          "name": "stderr",
          "text": [
            "epoch 85 iter 311: train loss 0.07216.: 100%|██████████| 312/312 [00:05<00:00, 56.86it/s]\n"
          ]
        },
        {
          "output_type": "stream",
          "name": "stdout",
          "text": [
            "Epoch 84: Training loss: 0.0828822802226895. Testing loss: 0.010535385144213516\n"
          ]
        },
        {
          "output_type": "stream",
          "name": "stderr",
          "text": [
            "epoch 86 iter 311: train loss 0.07261.: 100%|██████████| 312/312 [00:05<00:00, 56.35it/s]\n"
          ]
        },
        {
          "output_type": "stream",
          "name": "stdout",
          "text": [
            "Epoch 85: Training loss: 0.08273650474177721. Testing loss: 0.008308609804859566\n"
          ]
        },
        {
          "output_type": "stream",
          "name": "stderr",
          "text": [
            "epoch 87 iter 311: train loss 0.08761.: 100%|██████████| 312/312 [00:05<00:00, 55.67it/s]\n"
          ]
        },
        {
          "output_type": "stream",
          "name": "stdout",
          "text": [
            "Epoch 86: Training loss: 0.08250479736866859. Testing loss: 0.007652515951063364\n"
          ]
        },
        {
          "output_type": "stream",
          "name": "stderr",
          "text": [
            "epoch 88 iter 311: train loss 0.09818.: 100%|██████████| 312/312 [00:05<00:00, 57.55it/s]\n"
          ]
        },
        {
          "output_type": "stream",
          "name": "stdout",
          "text": [
            "Epoch 87: Training loss: 0.08270228300721218. Testing loss: 0.008273585541774668\n"
          ]
        },
        {
          "output_type": "stream",
          "name": "stderr",
          "text": [
            "epoch 89 iter 311: train loss 0.06019.: 100%|██████████| 312/312 [00:05<00:00, 57.56it/s]\n"
          ]
        },
        {
          "output_type": "stream",
          "name": "stdout",
          "text": [
            "Epoch 88: Training loss: 0.08344838832719968. Testing loss: 0.007429234878790956\n"
          ]
        },
        {
          "output_type": "stream",
          "name": "stderr",
          "text": [
            "epoch 90 iter 311: train loss 0.08399.: 100%|██████████| 312/312 [00:05<00:00, 57.03it/s]\n"
          ]
        },
        {
          "output_type": "stream",
          "name": "stdout",
          "text": [
            "Epoch 89: Training loss: 0.08163518138611928. Testing loss: 0.007776108885844869\n"
          ]
        },
        {
          "output_type": "stream",
          "name": "stderr",
          "text": [
            "epoch 91 iter 311: train loss 0.08200.: 100%|██████████| 312/312 [00:05<00:00, 58.59it/s]\n"
          ]
        },
        {
          "output_type": "stream",
          "name": "stdout",
          "text": [
            "Epoch 90: Training loss: 0.08278432076510328. Testing loss: 0.007465437039612762\n"
          ]
        },
        {
          "output_type": "stream",
          "name": "stderr",
          "text": [
            "epoch 92 iter 311: train loss 0.08670.: 100%|██████████| 312/312 [00:05<00:00, 56.47it/s]\n"
          ]
        },
        {
          "output_type": "stream",
          "name": "stdout",
          "text": [
            "Epoch 91: Training loss: 0.08087129064668448. Testing loss: 0.009823013322367784\n"
          ]
        },
        {
          "output_type": "stream",
          "name": "stderr",
          "text": [
            "epoch 93 iter 311: train loss 0.07782.: 100%|██████████| 312/312 [00:05<00:00, 55.94it/s]\n"
          ]
        },
        {
          "output_type": "stream",
          "name": "stdout",
          "text": [
            "Epoch 92: Training loss: 0.08216390205929294. Testing loss: 0.0077694071712152615\n"
          ]
        },
        {
          "output_type": "stream",
          "name": "stderr",
          "text": [
            "epoch 94 iter 311: train loss 0.08848.: 100%|██████████| 312/312 [00:05<00:00, 58.56it/s]\n"
          ]
        },
        {
          "output_type": "stream",
          "name": "stdout",
          "text": [
            "Epoch 93: Training loss: 0.08177051468728444. Testing loss: 0.007725961881900026\n"
          ]
        },
        {
          "output_type": "stream",
          "name": "stderr",
          "text": [
            "epoch 95 iter 311: train loss 0.07654.: 100%|██████████| 312/312 [00:05<00:00, 58.52it/s]\n"
          ]
        },
        {
          "output_type": "stream",
          "name": "stdout",
          "text": [
            "Epoch 94: Training loss: 0.08196142929582259. Testing loss: 0.008212437500215827\n"
          ]
        },
        {
          "output_type": "stream",
          "name": "stderr",
          "text": [
            "epoch 96 iter 311: train loss 0.08999.: 100%|██████████| 312/312 [00:05<00:00, 59.14it/s]\n"
          ]
        },
        {
          "output_type": "stream",
          "name": "stdout",
          "text": [
            "Epoch 95: Training loss: 0.08238178237269704. Testing loss: 0.008059308218259004\n"
          ]
        },
        {
          "output_type": "stream",
          "name": "stderr",
          "text": [
            "epoch 97 iter 311: train loss 0.09150.: 100%|██████████| 312/312 [00:05<00:00, 57.99it/s]\n"
          ]
        },
        {
          "output_type": "stream",
          "name": "stdout",
          "text": [
            "Epoch 96: Training loss: 0.08197988247355589. Testing loss: 0.008196613338265208\n"
          ]
        },
        {
          "output_type": "stream",
          "name": "stderr",
          "text": [
            "epoch 98 iter 311: train loss 0.07095.: 100%|██████████| 312/312 [00:05<00:00, 58.40it/s]\n"
          ]
        },
        {
          "output_type": "stream",
          "name": "stdout",
          "text": [
            "Epoch 97: Training loss: 0.08168906011642554. Testing loss: 0.007314146383695545\n"
          ]
        },
        {
          "output_type": "stream",
          "name": "stderr",
          "text": [
            "epoch 99 iter 311: train loss 0.08276.: 100%|██████████| 312/312 [00:05<00:00, 58.31it/s]\n"
          ]
        },
        {
          "output_type": "stream",
          "name": "stdout",
          "text": [
            "Epoch 98: Training loss: 0.08161000783244769. Testing loss: 0.007646096900345818\n"
          ]
        },
        {
          "output_type": "stream",
          "name": "stderr",
          "text": [
            "epoch 100 iter 311: train loss 0.09008.: 100%|██████████| 312/312 [00:05<00:00, 57.66it/s]\n"
          ]
        },
        {
          "output_type": "stream",
          "name": "stdout",
          "text": [
            "Epoch 99: Training loss: 0.08162156271581085. Testing loss: 0.008227635129925704\n"
          ]
        }
      ]
    },
    {
      "cell_type": "markdown",
      "source": [
        "# Reconstruct"
      ],
      "metadata": {
        "id": "QOGuTcCsn2a3"
      }
    },
    {
      "cell_type": "code",
      "source": [
        "mean, std = [0.485, 0.456, 0.406], [0.229, 0.224, 0.225]\n",
        "unNormer = UnNormalize(mean, std)\n",
        "net.eval()\n",
        "for i in trainset:\n",
        "  plt.imshow(unNormer(i[0]).detach())\n",
        "  plt.show()\n",
        "  recon = net(i[0].cuda().unsqueeze(0))[0].cpu()\n",
        "  plt.imshow(unNormer(recon[0]).detach())\n",
        "  # plt.imshow(recon[0].permute(1,2,0).detach())\n",
        "  plt.show()\n",
        "  break\n",
        "for i in testset:\n",
        "  plt.imshow(i[0].permute(1,2,0).detach())\n",
        "  plt.show()\n",
        "  recon = net(i[0].cuda().unsqueeze(0))[0].cpu()\n",
        "  plt.imshow(recon[0].permute(1,2,0).detach())\n",
        "  plt.show()\n",
        "  break"
      ],
      "metadata": {
        "colab": {
          "base_uri": "https://localhost:8080/",
          "height": 1000
        },
        "id": "w0hIEwz4nZTR",
        "outputId": "27c02898-b522-409f-eeb2-e6f6a5855680"
      },
      "execution_count": 12,
      "outputs": [
        {
          "output_type": "display_data",
          "data": {
            "text/plain": [
              "<Figure size 432x288 with 1 Axes>"
            ],
            "image/png": "[encoded data removed]"
          },
          "metadata": {
            "needs_background": "light"
          }
        },
        {
          "output_type": "stream",
          "name": "stderr",
          "text": [
            "Clipping input data to the valid range for imshow with RGB data ([0..1] for floats or [0..255] for integers).\n"
          ]
        },
        {
          "output_type": "display_data",
          "data": {
            "text/plain": [
              "<Figure size 432x288 with 1 Axes>"
            ],
            "image/png": "[encoded data removed]"
          },
          "metadata": {
            "needs_background": "light"
          }
        },
        {
          "output_type": "display_data",
          "data": {
            "text/plain": [
              "<Figure size 432x288 with 1 Axes>"
            ],
            "image/png": "[encoded data removed]"
          },
          "metadata": {
            "needs_background": "light"
          }
        },
        {
          "output_type": "display_data",
          "data": {
            "text/plain": [
              "<Figure size 432x288 with 1 Axes>"
            ],
            "image/png": "[encoded data removed]"
          },
          "metadata": {
            "needs_background": "light"
          }
        }
      ]
    },
    {
      "cell_type": "markdown",
      "source": [
        "# Sampling"
      ],
      "metadata": {
        "id": "htSZX0p-h5lN"
      }
    },
    {
      "cell_type": "code",
      "source": [
        "mean, std = [0.485, 0.456, 0.406], [0.229, 0.224, 0.225]\n",
        "unNormer = UnNormalize(mean, std)\n",
        "net.eval()\n",
        "image = net.sample(1)[0].permute(1,2,0)\n",
        "plt.imshow(unNormer(image).detach())\n",
        "# plt.imshow(image.detach())"
      ],
      "metadata": {
        "id": "6xoOUJg7bSBF",
        "outputId": "5173cb3a-d796-4b38-a521-b7898d59b892",
        "colab": {
          "base_uri": "https://localhost:8080/",
          "height": 283
        }
      },
      "execution_count": 13,
      "outputs": [
        {
          "output_type": "execute_result",
          "data": {
            "text/plain": [
              "<matplotlib.image.AxesImage at 0x7f97209d6490>"
            ]
          },
          "metadata": {},
          "execution_count": 13
        },
        {
          "output_type": "display_data",
          "data": {
            "text/plain": [
              "<Figure size 432x288 with 1 Axes>"
            ],
            "image/png": "[encoded data removed]"
          },
          "metadata": {
            "needs_background": "light"
          }
        }
      ]
    },
    {
      "cell_type": "code",
      "source": [
        ""
      ],
      "metadata": {
        "id": "zRVnVj7TcdiU"
      },
      "execution_count": 13,
      "outputs": []
    }
  ],
  "metadata": {
    "colab": {
      "collapsed_sections": [],
      "name": "VAE",
      "provenance": []
    },
    "kernelspec": {
      "display_name": "Python 3",
      "name": "python3"
    },
    "accelerator": "GPU",
    "gpuClass": "standard"
  },
  "nbformat": 4,
  "nbformat_minor": 0
}
