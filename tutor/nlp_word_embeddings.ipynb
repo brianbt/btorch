{
 "cells": [
  {
   "cell_type": "markdown",
   "metadata": {
    "colab": {
     "base_uri": "https://localhost:8080/"
    },
    "id": "hw9qFErXLySw",
    "outputId": "ac66b534-75d5-4531-ffc8-46fe41e6f5ab"
   },
   "source": [
    "# btorch (word_embeddings) tutorial\n",
    "https://pytorch.org/tutorials/beginner/nlp/word_embeddings_tutorial.html  \n",
    "\n",
    "Author: Robert Guthrie, Brian"
   ]
  },
  {
   "cell_type": "code",
   "execution_count": 1,
   "metadata": {},
   "outputs": [
    {
     "data": {
      "text/plain": [
       "<torch._C.Generator at 0x2aab537161f0>"
      ]
     },
     "execution_count": 1,
     "metadata": {},
     "output_type": "execute_result"
    }
   ],
   "source": [
    "import torch\n",
    "import btorch.nn as nn\n",
    "import btorch.nn.functional as F\n",
    "import torch.optim as optim\n",
    "\n",
    "torch.manual_seed(1)"
   ]
  },
  {
   "cell_type": "code",
   "execution_count": 2,
   "metadata": {
    "colab": {
     "base_uri": "https://localhost:8080/"
    },
    "id": "JofCP_KsL55m",
    "outputId": "a2570112-30dc-482f-d3b2-0cfd094b9587"
   },
   "outputs": [
    {
     "name": "stdout",
     "output_type": "stream",
     "text": [
      "[(['forty', 'When'], 'winters'), (['winters', 'forty'], 'shall'), (['shall', 'winters'], 'besiege')]\n"
     ]
    }
   ],
   "source": [
    "CONTEXT_SIZE = 2\n",
    "EMBEDDING_DIM = 10\n",
    "# We will use Shakespeare Sonnet 2\n",
    "test_sentence = \"\"\"When forty winters shall besiege thy brow,\n",
    "And dig deep trenches in thy beauty's field,\n",
    "Thy youth's proud livery so gazed on now,\n",
    "Will be a totter'd weed of small worth held:\n",
    "Then being asked, where all thy beauty lies,\n",
    "Where all the treasure of thy lusty days;\n",
    "To say, within thine own deep sunken eyes,\n",
    "Were an all-eating shame, and thriftless praise.\n",
    "How much more praise deserv'd thy beauty's use,\n",
    "If thou couldst answer 'This fair child of mine\n",
    "Shall sum my count, and make my old excuse,'\n",
    "Proving his beauty by succession thine!\n",
    "This were to be new made when thou art old,\n",
    "And see thy blood warm when thou feel'st it cold.\"\"\".split()\n",
    "# we should tokenize the input, but we will ignore that for now\n",
    "# build a list of tuples.\n",
    "# Each tuple is ([ word_i-CONTEXT_SIZE, ..., word_i-1 ], target word)\n",
    "ngrams = [\n",
    "    (\n",
    "        [test_sentence[i - j - 1] for j in range(CONTEXT_SIZE)],\n",
    "        test_sentence[i]\n",
    "    )\n",
    "    for i in range(CONTEXT_SIZE, len(test_sentence))\n",
    "]\n",
    "# Print the first 3, just so you can see what they look like.\n",
    "print(ngrams[:3])\n",
    "\n",
    "vocab = set(test_sentence)  #all unique words\n",
    "word_to_ix = {word: i for i, word in enumerate(vocab)}"
   ]
  },
  {
   "cell_type": "markdown",
   "metadata": {},
   "source": [
    "## Define a Model in btorch"
   ]
  },
  {
   "cell_type": "code",
   "execution_count": 3,
   "metadata": {},
   "outputs": [
    {
     "name": "stdout",
     "output_type": "stream",
     "text": [
      "Epoch 0: Training loss: 523.1158204078674. Testing loss: Not Provided\n",
      "Epoch 1: Training loss: 520.7239346504211. Testing loss: Not Provided\n",
      "Epoch 2: Training loss: 518.3480830192566. Testing loss: Not Provided\n",
      "Epoch 3: Training loss: 515.9878144264221. Testing loss: Not Provided\n",
      "Epoch 4: Training loss: 513.6441121101379. Testing loss: Not Provided\n",
      "Epoch 5: Training loss: 511.3161165714264. Testing loss: Not Provided\n",
      "Epoch 6: Training loss: 509.0015251636505. Testing loss: Not Provided\n",
      "Epoch 7: Training loss: 506.69941306114197. Testing loss: Not Provided\n",
      "Epoch 8: Training loss: 504.41120433807373. Testing loss: Not Provided\n",
      "Epoch 9: Training loss: 502.1318509578705. Testing loss: Not Provided\n",
      "tensor([-6.6014e-01, -1.1942e+00, -2.6075e-01, -1.0646e-03,  1.5511e+00,\n",
      "        -9.2689e-01, -8.4736e-01,  1.5865e-01,  8.5613e-01, -2.0895e+00],\n",
      "       grad_fn=<SelectBackward0>)\n"
     ]
    }
   ],
   "source": [
    "class NGramLanguageModeler(nn.Module):\n",
    "\n",
    "    def __init__(self, vocab_size, embedding_dim, context_size):\n",
    "        super(NGramLanguageModeler, self).__init__()\n",
    "        self.embeddings = nn.Embedding(vocab_size, embedding_dim)\n",
    "        self.linear1 = nn.Linear(context_size * embedding_dim, 128)\n",
    "        self.linear2 = nn.Linear(128, vocab_size)\n",
    "\n",
    "    def forward(self, inputs):\n",
    "        # here inputs is (CONTEXT_SIZE,) reshape to \n",
    "        # embeds (1, EMBEDDING_DIM* CONTEXT_SIZE)\n",
    "        embeds = self.embeddings(inputs).view((1, -1))\n",
    "        out = F.relu(self.linear1(embeds))\n",
    "        out = self.linear2(out)\n",
    "        log_probs = F.log_softmax(out, dim=1)\n",
    "        return log_probs\n",
    "    \n",
    "    @classmethod\n",
    "    def train_epoch(cls, net, criterion, trainloader, optimizer, epoch_idx, device='cuda', config=None):\n",
    "        total_loss = 0\n",
    "        for context, target in trainloader:\n",
    "            # Step 1. Prepare the inputs to be passed to the model (i.e, turn the words\n",
    "            # into integer indices and wrap them in tensors)\n",
    "            context_idxs = torch.tensor([word_to_ix[w[0]] for w in context], dtype=torch.long)\n",
    "            # Step 2. Recall that torch *accumulates* gradients. Before passing in a\n",
    "            # new instance, you need to zero out the gradients from the old\n",
    "            # instance\n",
    "            net.zero_grad()\n",
    "\n",
    "            # Step 3. Run the forward pass, getting log probabilities over next\n",
    "            # words\n",
    "            log_probs = net(context_idxs)\n",
    "\n",
    "            # Step 4. Compute your loss function. (Again, Torch wants the target\n",
    "            # word wrapped in a tensor)\n",
    "            # Here we are predicting the target word, by outputing a (V,) vector\n",
    "            # ans use softmax to choose the highest proba word\n",
    "            loss = criterion(log_probs, torch.tensor([word_to_ix[target[0]]], dtype=torch.long))\n",
    "\n",
    "            # Step 5. Do the backward pass and update the gradient\n",
    "            loss.backward()\n",
    "            optimizer.step()\n",
    "            \n",
    "            # Get the Python number from a 1-element Tensor by calling tensor.item()\n",
    "            total_loss += loss.item()\n",
    "        return total_loss\n",
    "\n",
    "\n",
    "\n",
    "model = NGramLanguageModeler(len(vocab), EMBEDDING_DIM, CONTEXT_SIZE)\n",
    "model._lossfn = nn.NLLLoss()\n",
    "model._optimizer = optim.SGD(model.parameters(), lr=0.001)\n",
    "\n",
    "train_loader = torch.utils.data.DataLoader(ngrams, batch_size=1, shuffle=True)\n",
    "\n",
    "model.fit(train_loader)\n",
    "\n",
    "\n",
    "# To get the embedding of a particular word, e.g. \"beauty\"\n",
    "print(model.embeddings.weight[word_to_ix[\"beauty\"]])"
   ]
  },
  {
   "cell_type": "code",
   "execution_count": 4,
   "metadata": {},
   "outputs": [
    {
     "name": "stdout",
     "output_type": "stream",
     "text": [
      "[(['are', 'We', 'to', 'study'], 'about'), (['about', 'are', 'study', 'the'], 'to'), (['to', 'about', 'the', 'idea'], 'study'), (['study', 'to', 'idea', 'of'], 'the'), (['the', 'study', 'of', 'a'], 'idea')]\n"
     ]
    }
   ],
   "source": [
    "CONTEXT_SIZE = 2  # 2 words to the left, 2 to the right\n",
    "raw_text = \"\"\"We are about to study the idea of a computational process.\n",
    "Computational processes are abstract beings that inhabit computers.\n",
    "As they evolve, processes manipulate other abstract things called data.\n",
    "The evolution of a process is directed by a pattern of rules\n",
    "called a program. People create programs to direct processes. In effect,\n",
    "we conjure the spirits of the computer with our spells.\"\"\".split()\n",
    "\n",
    "# By deriving a set from `raw_text`, we deduplicate the array\n",
    "vocab = set(raw_text)\n",
    "vocab_size = len(vocab)\n",
    "\n",
    "word_to_ix = {word: i for i, word in enumerate(vocab)}\n",
    "data = []\n",
    "for i in range(CONTEXT_SIZE, len(raw_text) - CONTEXT_SIZE):\n",
    "    context = (\n",
    "        [raw_text[i - j - 1] for j in range(CONTEXT_SIZE)]\n",
    "        + [raw_text[i + j + 1] for j in range(CONTEXT_SIZE)]\n",
    "    )\n",
    "    target = raw_text[i]\n",
    "    data.append((context, target))\n",
    "print(data[:5])"
   ]
  },
  {
   "cell_type": "code",
   "execution_count": 5,
   "metadata": {},
   "outputs": [],
   "source": [
    "class CBOW(nn.Module):\n",
    "\n",
    "    def __init__(self, vocab_size, embedding_dim, context_size):\n",
    "        super(CBOW, self).__init__()\n",
    "        self.embeddings = nn.Embedding(vocab_size, embedding_dim)\n",
    "        self.linear1 = nn.Linear(embedding_dim*context_size, 128)\n",
    "        self.linear2 = nn.Linear(128, vocab_size)\n",
    "\n",
    "    def forward(self, inputs):\n",
    "        embeds = self.embeddings(inputs).view(1,-1)\n",
    "        x = F.relu(self.linear1(embeds))\n",
    "        x = self.linear2(x)\n",
    "        log_probs = F.log_softmax(out, dim=1)\n",
    "        return -1*log_probs\n",
    "    \n",
    "    @classmethod\n",
    "    def train_epoch(cls, net, criterion, trainloader, optimizer, epoch_idx, device='cuda', config=None):\n",
    "        total_loss = 0\n",
    "        for context, target in trainloader:\n",
    "            \n",
    "            # Step 1. Prepare the inputs to be passed to the model (i.e, turn the words\n",
    "            # into integer indices and wrap them in tensors)\n",
    "            context_idxs = make_context_vector(context, word_to_ix) \n",
    "\n",
    "            # Step 2. Recall that torch *accumulates* gradients. Before passing in a\n",
    "            # new instance, you need to zero out the gradients from the old\n",
    "            # instance\n",
    "            net.zero_grad()\n",
    "\n",
    "            # Step 3. Run the forward pass, getting log probabilities over next\n",
    "            # words\n",
    "            log_probs = model(context_idxs)\n",
    "\n",
    "            # Step 4. Compute your loss function. (Again, Torch wants the target\n",
    "            # word wrapped in a tensor)\n",
    "            # Here we are predicting the target word, by outputing a (V,) vector\n",
    "            # ans use softmax to choose the highest proba word\n",
    "            loss = loss_function(log_probs, torch.tensor([word_to_ix[target[0]]], dtype=torch.long))\n",
    "\n",
    "            # Step 5. Do the backward pass and update the gradient\n",
    "            loss.backward()\n",
    "            optimizer.step()\n",
    "\n",
    "            # Get the Python number from a 1-element Tensor by calling tensor.item()\n",
    "            total_loss += loss.item()\n",
    "        return total_loss\n",
    "    \n",
    "def make_context_vector(context, word_to_ix):\n",
    "    idxs = [word_to_ix[w[0]] for w in context]\n",
    "    return torch.tensor(idxs, dtype=torch.long)"
   ]
  },
  {
   "cell_type": "code",
   "execution_count": 6,
   "metadata": {},
   "outputs": [
    {
     "name": "stdout",
     "output_type": "stream",
     "text": [
      "Epoch 0: Training loss: 229.51315832138062. Testing loss: Not Provided\n",
      "Epoch 1: Training loss: 228.04372262954712. Testing loss: Not Provided\n",
      "Epoch 2: Training loss: 226.58604526519775. Testing loss: Not Provided\n",
      "Epoch 3: Training loss: 225.13886785507202. Testing loss: Not Provided\n",
      "Epoch 4: Training loss: 223.69987678527832. Testing loss: Not Provided\n",
      "Epoch 5: Training loss: 222.26979398727417. Testing loss: Not Provided\n",
      "Epoch 6: Training loss: 220.8470311164856. Testing loss: Not Provided\n",
      "Epoch 7: Training loss: 219.43106651306152. Testing loss: Not Provided\n",
      "Epoch 8: Training loss: 218.02213144302368. Testing loss: Not Provided\n",
      "Epoch 9: Training loss: 216.6177306175232. Testing loss: Not Provided\n",
      "tensor([-0.3597, -0.1511, -0.2944, -0.5894,  0.4267, -0.0143,  0.4768,  0.1845,\n",
      "         0.5582,  1.5608], grad_fn=<SelectBackward0>)\n"
     ]
    }
   ],
   "source": [
    "\n",
    "model = NGramLanguageModeler(len(vocab), EMBEDDING_DIM, CONTEXT_SIZE*2)\n",
    "model._optimizer = optim.SGD(model.parameters(), lr=0.001)\n",
    "model._lossfn = nn.NLLLoss()\n",
    "\n",
    "train_loader = torch.utils.data.DataLoader(data, batch_size=1, shuffle=True)\n",
    "\n",
    "model.fit(train_loader)\n",
    "\n",
    "# To get the embedding of a particular word, e.g. \"computer\"\n",
    "print(model.embeddings.weight[word_to_ix[\"computer\"]])"
   ]
  },
  {
   "cell_type": "code",
   "execution_count": null,
   "metadata": {
    "id": "aKIf_8voP6Fb"
   },
   "outputs": [],
   "source": []
  }
 ],
 "metadata": {
  "colab": {
   "collapsed_sections": [],
   "name": "NLP_Tutor2.ipynb",
   "provenance": []
  },
  "kernelspec": {
   "display_name": "Python [conda env:.conda-my2]",
   "language": "python",
   "name": "conda-env-.conda-my2-py"
  },
  "language_info": {
   "codemirror_mode": {
    "name": "ipython",
    "version": 3
   },
   "file_extension": ".py",
   "mimetype": "text/x-python",
   "name": "python",
   "nbconvert_exporter": "python",
   "pygments_lexer": "ipython3",
   "version": "3.8.12"
  }
 },
 "nbformat": 4,
 "nbformat_minor": 4
}
