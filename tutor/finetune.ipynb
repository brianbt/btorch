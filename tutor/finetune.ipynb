{
 "nbformat": 4,
 "nbformat_minor": 0,
 "metadata": {
  "colab": {
   "name": "finetune.ipynb",
   "provenance": [],
   "collapsed_sections": []
  },
  "kernelspec": {
   "name": "python3",
   "display_name": "Python 3"
  },
  "language_info": {
   "name": "python"
  }
 },
 "cells": [
  {
   "cell_type": "code",
   "execution_count": 1,
   "metadata": {
    "colab": {
     "base_uri": "https://localhost:8080/"
    },
    "id": "O2JUtPTVxgQu",
    "outputId": "7153ecbc-0984-466a-afd4-adbbc3aca11d",
    "pycharm": {
     "name": "#%%\n"
    }
   },
   "outputs": [
    {
     "output_type": "stream",
     "name": "stdout",
     "text": [
      "Looking in indexes: https://pypi.org/simple, https://us-python.pkg.dev/colab-wheels/public/simple/\n",
      "Collecting git+https://github.com/brianbt/btorch\n",
      "  Cloning https://github.com/brianbt/btorch to /tmp/pip-req-build-ps46qpij\n",
      "  Running command git clone -q https://github.com/brianbt/btorch /tmp/pip-req-build-ps46qpij\n",
      "Requirement already satisfied: torch in /usr/local/lib/python3.7/dist-packages (from btorch==0.0.1) (1.12.0+cu113)\n",
      "Requirement already satisfied: torchvision in /usr/local/lib/python3.7/dist-packages (from btorch==0.0.1) (0.13.0+cu113)\n",
      "Requirement already satisfied: numpy in /usr/local/lib/python3.7/dist-packages (from btorch==0.0.1) (1.21.6)\n",
      "Requirement already satisfied: pandas in /usr/local/lib/python3.7/dist-packages (from btorch==0.0.1) (1.3.5)\n",
      "Requirement already satisfied: torchinfo in /usr/local/lib/python3.7/dist-packages (from btorch==0.0.1) (1.7.0)\n",
      "Requirement already satisfied: opencv-python in /usr/local/lib/python3.7/dist-packages (from btorch==0.0.1) (4.6.0.66)\n",
      "Requirement already satisfied: scikit-learn in /usr/local/lib/python3.7/dist-packages (from btorch==0.0.1) (1.0.2)\n",
      "Requirement already satisfied: matplotlib in /usr/local/lib/python3.7/dist-packages (from btorch==0.0.1) (3.2.2)\n",
      "Requirement already satisfied: tqdm in /usr/local/lib/python3.7/dist-packages (from btorch==0.0.1) (4.64.0)\n",
      "Requirement already satisfied: scipy in /usr/local/lib/python3.7/dist-packages (from btorch==0.0.1) (1.7.3)\n",
      "Requirement already satisfied: python-dateutil>=2.1 in /usr/local/lib/python3.7/dist-packages (from matplotlib->btorch==0.0.1) (2.8.2)\n",
      "Requirement already satisfied: kiwisolver>=1.0.1 in /usr/local/lib/python3.7/dist-packages (from matplotlib->btorch==0.0.1) (1.4.4)\n",
      "Requirement already satisfied: pyparsing!=2.0.4,!=2.1.2,!=2.1.6,>=2.0.1 in /usr/local/lib/python3.7/dist-packages (from matplotlib->btorch==0.0.1) (3.0.9)\n",
      "Requirement already satisfied: cycler>=0.10 in /usr/local/lib/python3.7/dist-packages (from matplotlib->btorch==0.0.1) (0.11.0)\n",
      "Requirement already satisfied: typing-extensions in /usr/local/lib/python3.7/dist-packages (from kiwisolver>=1.0.1->matplotlib->btorch==0.0.1) (4.1.1)\n",
      "Requirement already satisfied: six>=1.5 in /usr/local/lib/python3.7/dist-packages (from python-dateutil>=2.1->matplotlib->btorch==0.0.1) (1.15.0)\n",
      "Requirement already satisfied: pytz>=2017.3 in /usr/local/lib/python3.7/dist-packages (from pandas->btorch==0.0.1) (2022.1)\n",
      "Requirement already satisfied: threadpoolctl>=2.0.0 in /usr/local/lib/python3.7/dist-packages (from scikit-learn->btorch==0.0.1) (3.1.0)\n",
      "Requirement already satisfied: joblib>=0.11 in /usr/local/lib/python3.7/dist-packages (from scikit-learn->btorch==0.0.1) (1.1.0)\n",
      "Requirement already satisfied: requests in /usr/local/lib/python3.7/dist-packages (from torchvision->btorch==0.0.1) (2.23.0)\n",
      "Requirement already satisfied: pillow!=8.3.*,>=5.3.0 in /usr/local/lib/python3.7/dist-packages (from torchvision->btorch==0.0.1) (7.1.2)\n",
      "Requirement already satisfied: certifi>=2017.4.17 in /usr/local/lib/python3.7/dist-packages (from requests->torchvision->btorch==0.0.1) (2022.6.15)\n",
      "Requirement already satisfied: idna<3,>=2.5 in /usr/local/lib/python3.7/dist-packages (from requests->torchvision->btorch==0.0.1) (2.10)\n",
      "Requirement already satisfied: chardet<4,>=3.0.2 in /usr/local/lib/python3.7/dist-packages (from requests->torchvision->btorch==0.0.1) (3.0.4)\n",
      "Requirement already satisfied: urllib3!=1.25.0,!=1.25.1,<1.26,>=1.21.1 in /usr/local/lib/python3.7/dist-packages (from requests->torchvision->btorch==0.0.1) (1.24.3)\n"
     ]
    }
   ],
   "source": [
    "!pip install git+https://github.com/brianbt/btorch"
   ]
  },
  {
   "cell_type": "code",
   "source": [
    "import torch\n",
    "from tqdm import tqdm\n",
    "import pandas as pd\n",
    "\n",
    "# Btorch\n",
    "import btorch\n",
    "from btorch import nn\n",
    "import btorch.nn.functional as F"
   ],
   "metadata": {
    "id": "0d0vCujZx6h4",
    "pycharm": {
     "name": "#%%\n"
    }
   },
   "execution_count": 2,
   "outputs": []
  },
  {
   "cell_type": "markdown",
   "source": [
    "# Create Model"
   ],
   "metadata": {
    "id": "m5xaqEF0Jb3z",
    "pycharm": {
     "name": "#%% md\n"
    }
   }
  },
  {
   "cell_type": "code",
   "source": [
    "class Net(nn.Module):\n",
    "    def __init__(self, classes):\n",
    "        super(Net, self).__init__()\n",
    "        self.a_a_1 = nn.Linear(100, 100)\n",
    "        self.a_a_2 = nn.Linear(100, 100)\n",
    "        self.a_b_1 = nn.Linear(100, 100)\n",
    "        self.b_a_1 = nn.Linear(100, 100)\n",
    "        self.c_a = nn.Linear(100, 100)\n",
    "        self.c_1 = nn.Linear(100, 100)\n",
    "        self.c_2 = nn.Linear(100, 100)\n",
    "        self.d = nn.Linear(100, 100)\n",
    "        self.e = nn.Linear(100, 100)\n",
    "        self.f = nn.Linear(100, 100)\n",
    "        self.g = nn.Linear(100, 100)\n",
    "        self.final = nn.Linear(100, classes)\n",
    "    def forward(self, x):\n",
    "        x = self.a_a_1(x)\n",
    "        x = self.a_a_2(x)\n",
    "        x = self.b_a_1(x)\n",
    "        x = self.c_a(x)\n",
    "        x = self.c_1(x)\n",
    "        x = self.c_2(x)\n",
    "        x = self.d(x)\n",
    "        x = self.e(x)\n",
    "        x = self.f(x)\n",
    "        x = self.g(x)\n",
    "        x = self.final(x)\n",
    "        return x"
   ],
   "metadata": {
    "id": "cKPLmKIUx9ud",
    "pycharm": {
     "name": "#%%\n"
    }
   },
   "execution_count": 3,
   "outputs": []
  },
  {
   "cell_type": "markdown",
   "source": [
    "Let create a Modela and see how it looks like"
   ],
   "metadata": {
    "id": "-2ZAZ1476-mK",
    "pycharm": {
     "name": "#%% md\n"
    }
   }
  },
  {
   "cell_type": "code",
   "source": [
    "model = Net(3)\n",
    "model"
   ],
   "metadata": {
    "colab": {
     "base_uri": "https://localhost:8080/"
    },
    "id": "R1F0cx-T4Plf",
    "outputId": "42df1c2f-7891-4d2c-8442-34480b532c5a",
    "pycharm": {
     "name": "#%%\n"
    }
   },
   "execution_count": 4,
   "outputs": [
    {
     "output_type": "execute_result",
     "data": {
      "text/plain": [
       "Net(\n",
       "  (a_a_1): Linear(in_features=100, out_features=100, bias=True)\n",
       "  (a_a_2): Linear(in_features=100, out_features=100, bias=True)\n",
       "  (a_b_1): Linear(in_features=100, out_features=100, bias=True)\n",
       "  (b_a_1): Linear(in_features=100, out_features=100, bias=True)\n",
       "  (c_a): Linear(in_features=100, out_features=100, bias=True)\n",
       "  (c_1): Linear(in_features=100, out_features=100, bias=True)\n",
       "  (c_2): Linear(in_features=100, out_features=100, bias=True)\n",
       "  (d): Linear(in_features=100, out_features=100, bias=True)\n",
       "  (e): Linear(in_features=100, out_features=100, bias=True)\n",
       "  (f): Linear(in_features=100, out_features=100, bias=True)\n",
       "  (g): Linear(in_features=100, out_features=100, bias=True)\n",
       "  (final): Linear(in_features=100, out_features=3, bias=True)\n",
       ")"
      ]
     },
     "metadata": {},
     "execution_count": 4
    }
   ]
  },
  {
   "cell_type": "code",
   "source": [
    "from btorch.utils.trainer import finetune\n",
    "model_params = finetune(model, base_lr=0.05, groups={'^a.a.*': 1, \n",
    "                                                      '^a.*': 0.2, \n",
    "                                                      '^c.*.weight$': 0.3, \n",
    "                                                      '^c.*.bias$': False, \n",
    "                                                      'f': False, \n",
    "                                                      'final': 3}, regex=True)"
   ],
   "metadata": {
    "id": "IjdDHIhg4nKe",
    "pycharm": {
     "name": "#%%\n"
    }
   },
   "execution_count": 5,
   "outputs": []
  },
  {
   "cell_type": "markdown",
   "source": [
    "Here we can see `['c_a.weight', 'c_1.weight', 'c_2.weight', 'f.weight', 'f.bias']` are not included in model_params because they are frozen."
   ],
   "metadata": {
    "id": "LQxe2iEk6qX1",
    "pycharm": {
     "name": "#%% md\n"
    }
   }
  },
  {
   "cell_type": "code",
   "source": [
    "model_params"
   ],
   "metadata": {
    "colab": {
     "base_uri": "https://localhost:8080/"
    },
    "id": "AqAIwX405CKl",
    "outputId": "caa33e28-e3a8-40bc-f7d7-d66884e71e31",
    "pycharm": {
     "name": "#%%\n"
    }
   },
   "execution_count": 6,
   "outputs": [
    {
     "output_type": "execute_result",
     "data": {
      "text/plain": [
       "[{'initial_lr': 0.05,\n",
       "  'lr': 0.05,\n",
       "  'names': ['a_a_1.weight', 'a_a_1.bias', 'a_a_2.weight', 'a_a_2.bias'],\n",
       "  'params': <list_iterator at 0x7fd29214bdd0>,\n",
       "  'query': '^a.a.*'},\n",
       " {'initial_lr': 0.010000000000000002,\n",
       "  'lr': 0.010000000000000002,\n",
       "  'names': ['a_b_1.weight', 'a_b_1.bias'],\n",
       "  'params': <list_iterator at 0x7fd29214be10>,\n",
       "  'query': '^a.*'},\n",
       " {'initial_lr': 0.015,\n",
       "  'lr': 0.015,\n",
       "  'names': ['c_a.weight', 'c_1.weight', 'c_2.weight'],\n",
       "  'params': <list_iterator at 0x7fd29214be50>,\n",
       "  'query': '^c.*.weight$'},\n",
       " {'initial_lr': 0.15000000000000002,\n",
       "  'lr': 0.15000000000000002,\n",
       "  'names': [],\n",
       "  'params': <list_iterator at 0x7fd29214be90>,\n",
       "  'query': 'final'},\n",
       " {'initial_lr': 0.05,\n",
       "  'lr': 0.05,\n",
       "  'names': ['b_a_1.weight',\n",
       "   'b_a_1.bias',\n",
       "   'd.weight',\n",
       "   'd.bias',\n",
       "   'e.weight',\n",
       "   'e.bias',\n",
       "   'g.weight',\n",
       "   'g.bias'],\n",
       "  'params': <list_iterator at 0x7fd29214bed0>}]"
      ]
     },
     "metadata": {},
     "execution_count": 6
    }
   ]
  },
  {
   "cell_type": "code",
   "source": [
    "# Loss & Optimizer & Config\n",
    "model._optimizer = torch.optim.SGD(model_params, momentum=0.9)\n",
    "model._lossfn = nn.CrossEntropyLoss()\n",
    "model._config = {'max_epoch':30}\n",
    "\n",
    "# Set GPU\n",
    "device = model.auto_gpu()"
   ],
   "metadata": {
    "colab": {
     "base_uri": "https://localhost:8080/"
    },
    "id": "mfAmQd6i5C0G",
    "outputId": "f57e135f-3223-422d-a0fa-d6557ee2b807",
    "pycharm": {
     "name": "#%%\n"
    }
   },
   "execution_count": 7,
   "outputs": [
    {
     "output_type": "stream",
     "name": "stdout",
     "text": [
      "auto_gpu: using CPU\n"
     ]
    }
   ]
  },
  {
   "cell_type": "code",
   "source": [
    "# Create Dataset\n",
    "x = torch.randn(16,100)\n",
    "y = torch.randint(high=3, size=(16,))\n",
    "print(y)\n",
    "\n",
    "# Fit model as usual\n",
    "model.fit(x, y, validation_split=0.3, verbose=0)"
   ],
   "metadata": {
    "colab": {
     "base_uri": "https://localhost:8080/"
    },
    "id": "WqPZWpud7JRm",
    "outputId": "84185da2-7511-4731-da79-5cbc20c92815",
    "pycharm": {
     "name": "#%%\n"
    }
   },
   "execution_count": 8,
   "outputs": [
    {
     "output_type": "stream",
     "name": "stdout",
     "text": [
      "tensor([2, 1, 0, 0, 1, 1, 1, 0, 0, 2, 2, 0, 0, 1, 2, 1])\n"
     ]
    }
   ]
  },
  {
   "cell_type": "code",
   "source": [
    "pd.DataFrame(model._history[0]).plot()"
   ],
   "metadata": {
    "colab": {
     "base_uri": "https://localhost:8080/",
     "height": 286
    },
    "id": "1yOf4JPM75b0",
    "outputId": "dae7b7ec-f239-463c-aec0-576db4076f15",
    "pycharm": {
     "name": "#%%\n"
    }
   },
   "execution_count": 9,
   "outputs": [
    {
     "output_type": "execute_result",
     "data": {
      "text/plain": [
       "<matplotlib.axes._subplots.AxesSubplot at 0x7fd2910ddfd0>"
      ]
     },
     "metadata": {},
     "execution_count": 9
    },
    {
     "output_type": "display_data",
     "data": {
      "text/plain": [
       "<Figure size 432x288 with 1 Axes>"
      ],
      "image/png": "[encoded data removed]"
     },
     "metadata": {
      "needs_background": "light"
     }
    }
   ]
  },
  {
   "cell_type": "code",
   "source": [
    "model.evaluate(model.get_eval_dataloader(), scoring=btorch.metrics.accuarcy)"
   ],
   "metadata": {
    "colab": {
     "base_uri": "https://localhost:8080/"
    },
    "id": "4xj2S6cD-cM6",
    "outputId": "88fd990b-cedc-4bef-a44a-c13c37f2b3c8",
    "pycharm": {
     "name": "#%%\n"
    }
   },
   "execution_count": 10,
   "outputs": [
    {
     "output_type": "execute_result",
     "data": {
      "text/plain": [
       "{'loss': 2.1643078327178955, 'score': 0.4}"
      ]
     },
     "metadata": {},
     "execution_count": 10
    }
   ]
  },
  {
   "cell_type": "code",
   "source": [
    "model._optimizer"
   ],
   "metadata": {
    "colab": {
     "base_uri": "https://localhost:8080/"
    },
    "id": "vVOHY1vUJrbJ",
    "outputId": "187cb690-a678-498d-9040-82724a0649c6",
    "pycharm": {
     "name": "#%%\n"
    }
   },
   "execution_count": 11,
   "outputs": [
    {
     "output_type": "execute_result",
     "data": {
      "text/plain": [
       "SGD (\n",
       "Parameter Group 0\n",
       "    dampening: 0\n",
       "    foreach: None\n",
       "    initial_lr: 0.05\n",
       "    lr: 0.05\n",
       "    maximize: False\n",
       "    momentum: 0.9\n",
       "    names: ['a_a_1.weight', 'a_a_1.bias', 'a_a_2.weight', 'a_a_2.bias']\n",
       "    nesterov: False\n",
       "    query: ^a.a.*\n",
       "    weight_decay: 0\n",
       "\n",
       "Parameter Group 1\n",
       "    dampening: 0\n",
       "    foreach: None\n",
       "    initial_lr: 0.010000000000000002\n",
       "    lr: 0.010000000000000002\n",
       "    maximize: False\n",
       "    momentum: 0.9\n",
       "    names: ['a_b_1.weight', 'a_b_1.bias']\n",
       "    nesterov: False\n",
       "    query: ^a.*\n",
       "    weight_decay: 0\n",
       "\n",
       "Parameter Group 2\n",
       "    dampening: 0\n",
       "    foreach: None\n",
       "    initial_lr: 0.015\n",
       "    lr: 0.015\n",
       "    maximize: False\n",
       "    momentum: 0.9\n",
       "    names: ['c_a.weight', 'c_1.weight', 'c_2.weight']\n",
       "    nesterov: False\n",
       "    query: ^c.*.weight$\n",
       "    weight_decay: 0\n",
       "\n",
       "Parameter Group 3\n",
       "    dampening: 0\n",
       "    foreach: None\n",
       "    initial_lr: 0.15000000000000002\n",
       "    lr: 0.15000000000000002\n",
       "    maximize: False\n",
       "    momentum: 0.9\n",
       "    names: []\n",
       "    nesterov: False\n",
       "    query: final\n",
       "    weight_decay: 0\n",
       "\n",
       "Parameter Group 4\n",
       "    dampening: 0\n",
       "    foreach: None\n",
       "    initial_lr: 0.05\n",
       "    lr: 0.05\n",
       "    maximize: False\n",
       "    momentum: 0.9\n",
       "    names: ['b_a_1.weight', 'b_a_1.bias', 'd.weight', 'd.bias', 'e.weight', 'e.bias', 'g.weight', 'g.bias']\n",
       "    nesterov: False\n",
       "    weight_decay: 0\n",
       ")"
      ]
     },
     "metadata": {},
     "execution_count": 11
    }
   ]
  },
  {
   "cell_type": "markdown",
   "source": [
    "# un_freeze f.bias and refit for 2 epoch"
   ],
   "metadata": {
    "id": "2NPjQkAOI9Sc",
    "pycharm": {
     "name": "#%% md\n"
    }
   }
  },
  {
   "cell_type": "code",
   "source": [
    "fBias= {'initial_lr': 1,\n",
    "  'lr': 1,\n",
    "  'names': ['f.bias'],\n",
    "  'params': model.f.bias,\n",
    "}\n",
    "model._optimizer.add_param_group(fBias)"
   ],
   "metadata": {
    "id": "7r-bSWAgF-C9",
    "pycharm": {
     "name": "#%%\n"
    }
   },
   "execution_count": 12,
   "outputs": []
  },
  {
   "cell_type": "code",
   "source": [
    "model.fit(x, y, validation_split=0.3, verbose=0, epoch=2)"
   ],
   "metadata": {
    "id": "Prq7Qb6UHeLT",
    "pycharm": {
     "name": "#%%\n"
    }
   },
   "execution_count": 13,
   "outputs": []
  },
  {
   "cell_type": "code",
   "source": [
    "pd.DataFrame(model._history[1]).plot()"
   ],
   "metadata": {
    "colab": {
     "base_uri": "https://localhost:8080/",
     "height": 282
    },
    "id": "GZuB8JMbIiDL",
    "outputId": "1916d832-bde6-4cb1-f274-5e2f0c9f269a",
    "pycharm": {
     "name": "#%%\n"
    }
   },
   "execution_count": 14,
   "outputs": [
    {
     "output_type": "execute_result",
     "data": {
      "text/plain": [
       "<matplotlib.axes._subplots.AxesSubplot at 0x7fd290ae97d0>"
      ]
     },
     "metadata": {},
     "execution_count": 14
    },
    {
     "output_type": "display_data",
     "data": {
      "text/plain": [
       "<Figure size 432x288 with 1 Axes>"
      ],
      "image/png": "[encoded data removed]"
     },
     "metadata": {
      "needs_background": "light"
     }
    }
   ]
  },
  {
   "cell_type": "code",
   "source": [
    "model._optimizer"
   ],
   "metadata": {
    "colab": {
     "base_uri": "https://localhost:8080/"
    },
    "id": "YIihrK_aJqcs",
    "outputId": "7fc74704-888b-4711-9d29-da81579b4373",
    "pycharm": {
     "name": "#%%\n"
    }
   },
   "execution_count": 15,
   "outputs": [
    {
     "output_type": "execute_result",
     "data": {
      "text/plain": [
       "SGD (\n",
       "Parameter Group 0\n",
       "    dampening: 0\n",
       "    foreach: None\n",
       "    initial_lr: 0.05\n",
       "    lr: 0.05\n",
       "    maximize: False\n",
       "    momentum: 0.9\n",
       "    names: ['a_a_1.weight', 'a_a_1.bias', 'a_a_2.weight', 'a_a_2.bias']\n",
       "    nesterov: False\n",
       "    query: ^a.a.*\n",
       "    weight_decay: 0\n",
       "\n",
       "Parameter Group 1\n",
       "    dampening: 0\n",
       "    foreach: None\n",
       "    initial_lr: 0.010000000000000002\n",
       "    lr: 0.010000000000000002\n",
       "    maximize: False\n",
       "    momentum: 0.9\n",
       "    names: ['a_b_1.weight', 'a_b_1.bias']\n",
       "    nesterov: False\n",
       "    query: ^a.*\n",
       "    weight_decay: 0\n",
       "\n",
       "Parameter Group 2\n",
       "    dampening: 0\n",
       "    foreach: None\n",
       "    initial_lr: 0.015\n",
       "    lr: 0.015\n",
       "    maximize: False\n",
       "    momentum: 0.9\n",
       "    names: ['c_a.weight', 'c_1.weight', 'c_2.weight']\n",
       "    nesterov: False\n",
       "    query: ^c.*.weight$\n",
       "    weight_decay: 0\n",
       "\n",
       "Parameter Group 3\n",
       "    dampening: 0\n",
       "    foreach: None\n",
       "    initial_lr: 0.15000000000000002\n",
       "    lr: 0.15000000000000002\n",
       "    maximize: False\n",
       "    momentum: 0.9\n",
       "    names: []\n",
       "    nesterov: False\n",
       "    query: final\n",
       "    weight_decay: 0\n",
       "\n",
       "Parameter Group 4\n",
       "    dampening: 0\n",
       "    foreach: None\n",
       "    initial_lr: 0.05\n",
       "    lr: 0.05\n",
       "    maximize: False\n",
       "    momentum: 0.9\n",
       "    names: ['b_a_1.weight', 'b_a_1.bias', 'd.weight', 'd.bias', 'e.weight', 'e.bias', 'g.weight', 'g.bias']\n",
       "    nesterov: False\n",
       "    weight_decay: 0\n",
       "\n",
       "Parameter Group 5\n",
       "    dampening: 0\n",
       "    foreach: None\n",
       "    initial_lr: 1\n",
       "    lr: 1\n",
       "    maximize: False\n",
       "    momentum: 0.9\n",
       "    names: ['f.bias']\n",
       "    nesterov: False\n",
       "    weight_decay: 0\n",
       ")"
      ]
     },
     "metadata": {},
     "execution_count": 15
    }
   ]
  },
  {
   "cell_type": "markdown",
   "source": [
    "# Change the entire param group and refit for 2 epoch"
   ],
   "metadata": {
    "id": "QQrB9R1WJDOm",
    "pycharm": {
     "name": "#%% md\n"
    }
   }
  },
  {
   "cell_type": "code",
   "source": [
    "from btorch.utils.trainer import finetune\n",
    "new_model_params = finetune(model, base_lr=0.05, groups={'^a.a.*': 1, \n",
    "                                                      '^a.*': 0.2, \n",
    "                                                      '^c.*.weight$': 0.3, \n",
    "                                                      '^c.*.bias$': 0.1, \n",
    "                                                      'f': 0.1, \n",
    "                                                      'final': 3}, regex=True)\n",
    "model._optimizer = torch.optim.SGD(new_model_params, momentum=0.9)"
   ],
   "metadata": {
    "id": "CVUnKtx4I7Gi",
    "pycharm": {
     "name": "#%%\n"
    }
   },
   "execution_count": 16,
   "outputs": []
  },
  {
   "cell_type": "code",
   "source": [
    "model.fit(x, y, validation_split=0.3, verbose=0, epoch=2)"
   ],
   "metadata": {
    "id": "p5KBzTYJJQss",
    "pycharm": {
     "name": "#%%\n"
    }
   },
   "execution_count": 17,
   "outputs": []
  },
  {
   "cell_type": "code",
   "source": [
    "pd.DataFrame(model._history[2]).plot()"
   ],
   "metadata": {
    "colab": {
     "base_uri": "https://localhost:8080/",
     "height": 293
    },
    "id": "RGFP8l0kJR-I",
    "outputId": "07eb49d4-6f9f-40ef-a130-25565f9917b7",
    "pycharm": {
     "name": "#%%\n"
    }
   },
   "execution_count": 18,
   "outputs": [
    {
     "output_type": "execute_result",
     "data": {
      "text/plain": [
       "<matplotlib.axes._subplots.AxesSubplot at 0x7fd290fd72d0>"
      ]
     },
     "metadata": {},
     "execution_count": 18
    },
    {
     "output_type": "display_data",
     "data": {
      "text/plain": [
       "<Figure size 432x288 with 1 Axes>"
      ],
      "image/png": "[encoded data removed]"
     },
     "metadata": {
      "needs_background": "light"
     }
    }
   ]
  },
  {
   "cell_type": "code",
   "source": [
    "model._optimizer"
   ],
   "metadata": {
    "colab": {
     "base_uri": "https://localhost:8080/"
    },
    "id": "Eh7gbIO6JTD1",
    "outputId": "0d4e0e81-d4d2-48e1-cb4c-c707296c6510",
    "pycharm": {
     "name": "#%%\n"
    }
   },
   "execution_count": 19,
   "outputs": [
    {
     "output_type": "execute_result",
     "data": {
      "text/plain": [
       "SGD (\n",
       "Parameter Group 0\n",
       "    dampening: 0\n",
       "    foreach: None\n",
       "    initial_lr: 0.05\n",
       "    lr: 0.05\n",
       "    maximize: False\n",
       "    momentum: 0.9\n",
       "    names: ['a_a_1.weight', 'a_a_1.bias', 'a_a_2.weight', 'a_a_2.bias']\n",
       "    nesterov: False\n",
       "    query: ^a.a.*\n",
       "    weight_decay: 0\n",
       "\n",
       "Parameter Group 1\n",
       "    dampening: 0\n",
       "    foreach: None\n",
       "    initial_lr: 0.010000000000000002\n",
       "    lr: 0.010000000000000002\n",
       "    maximize: False\n",
       "    momentum: 0.9\n",
       "    names: ['a_b_1.weight', 'a_b_1.bias']\n",
       "    nesterov: False\n",
       "    query: ^a.*\n",
       "    weight_decay: 0\n",
       "\n",
       "Parameter Group 2\n",
       "    dampening: 0\n",
       "    foreach: None\n",
       "    initial_lr: 0.015\n",
       "    lr: 0.015\n",
       "    maximize: False\n",
       "    momentum: 0.9\n",
       "    names: ['c_a.weight', 'c_1.weight', 'c_2.weight']\n",
       "    nesterov: False\n",
       "    query: ^c.*.weight$\n",
       "    weight_decay: 0\n",
       "\n",
       "Parameter Group 3\n",
       "    dampening: 0\n",
       "    foreach: None\n",
       "    initial_lr: 0.005000000000000001\n",
       "    lr: 0.005000000000000001\n",
       "    maximize: False\n",
       "    momentum: 0.9\n",
       "    names: ['c_a.bias', 'c_1.bias', 'c_2.bias']\n",
       "    nesterov: False\n",
       "    query: ^c.*.bias$\n",
       "    weight_decay: 0\n",
       "\n",
       "Parameter Group 4\n",
       "    dampening: 0\n",
       "    foreach: None\n",
       "    initial_lr: 0.005000000000000001\n",
       "    lr: 0.005000000000000001\n",
       "    maximize: False\n",
       "    momentum: 0.9\n",
       "    names: ['f.weight', 'f.bias', 'final.weight', 'final.bias']\n",
       "    nesterov: False\n",
       "    query: f\n",
       "    weight_decay: 0\n",
       "\n",
       "Parameter Group 5\n",
       "    dampening: 0\n",
       "    foreach: None\n",
       "    initial_lr: 0.15000000000000002\n",
       "    lr: 0.15000000000000002\n",
       "    maximize: False\n",
       "    momentum: 0.9\n",
       "    names: []\n",
       "    nesterov: False\n",
       "    query: final\n",
       "    weight_decay: 0\n",
       "\n",
       "Parameter Group 6\n",
       "    dampening: 0\n",
       "    foreach: None\n",
       "    initial_lr: 0.05\n",
       "    lr: 0.05\n",
       "    maximize: False\n",
       "    momentum: 0.9\n",
       "    names: ['b_a_1.weight', 'b_a_1.bias', 'd.weight', 'd.bias', 'e.weight', 'e.bias', 'g.weight', 'g.bias']\n",
       "    nesterov: False\n",
       "    weight_decay: 0\n",
       ")"
      ]
     },
     "metadata": {},
     "execution_count": 19
    }
   ]
  },
  {
   "cell_type": "code",
   "source": [],
   "metadata": {
    "id": "RInWnDmMJmqu",
    "pycharm": {
     "name": "#%%\n"
    }
   },
   "execution_count": 19,
   "outputs": []
  }
 ]
}