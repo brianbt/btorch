{
 "cells": [
  {
   "cell_type": "markdown",
   "id": "8da4b778-4972-46c3-b301-3855a5b35d41",
   "metadata": {},
   "source": [
    "# Tutorial for GridSearchCV"
   ]
  },
  {
   "cell_type": "code",
   "execution_count": 1,
   "id": "78015db3-324c-49c3-85b1-c7c18dc20198",
   "metadata": {},
   "outputs": [],
   "source": [
    "%load_ext autoreload\n",
    "%autoreload 2\n",
    "\n",
    "import torch\n",
    "import btorch\n",
    "from btorch import nn\n",
    "import btorch.nn.functional as F\n",
    "from btorch.nn import GridSearchCV\n",
    "import pandas as pd\n",
    "from tqdm import tqdm"
   ]
  },
  {
   "cell_type": "markdown",
   "id": "fbaff745-28bf-480f-85e7-3348be002211",
   "metadata": {},
   "source": [
    "# Create Model"
   ]
  },
  {
   "cell_type": "markdown",
   "id": "ba7c1119-a1e4-4ef8-8535-618944df95d4",
   "metadata": {},
   "source": [
    "Lets create a simple NN model for binary classification"
   ]
  },
  {
   "cell_type": "code",
   "execution_count": 2,
   "id": "176693a7-caed-40b9-904f-af53fd5a352b",
   "metadata": {},
   "outputs": [],
   "source": [
    "class Net(nn.Module):\n",
    "    def __init__(self, hidden_dim):\n",
    "        super(Net, self).__init__()\n",
    "        self.l1 = nn.Linear(50,hidden_dim)\n",
    "        self.l2 = nn.Linear(hidden_dim,1)\n",
    "    def forward(self,x):\n",
    "        return self.l2(torch.relu(self.l1(x)))"
   ]
  },
  {
   "cell_type": "markdown",
   "id": "24d596c5-098d-402e-a9b8-06b217a1e23b",
   "metadata": {},
   "source": [
    "Now we want to define a scoring function that takes in ``model_ouput`` and ``y_true`` as argument.  \n",
    "Remember you must define the parameter name as such.  \n",
    "This scoring function should accept a batched-input and return the **sum** of score of that batch."
   ]
  },
  {
   "cell_type": "code",
   "execution_count": 3,
   "id": "6671e00d-86b0-4869-b3c2-4c4807df07c1",
   "metadata": {},
   "outputs": [],
   "source": [
    "def accuarcy(model_output, y_true):\n",
    "    y_pred = ((torch.sigmoid(model_output))>0.5).int().float()\n",
    "    out = (y_pred == y_true).float().sum().item()\n",
    "    return out"
   ]
  },
  {
   "cell_type": "markdown",
   "id": "eba38e0b-5a41-4dfa-96c2-0ae0aebdd2d1",
   "metadata": {},
   "source": [
    "Create a dumpy dataset"
   ]
  },
  {
   "cell_type": "code",
   "execution_count": 4,
   "id": "bc11ad2a-9f34-402d-9157-9224fc23842a",
   "metadata": {},
   "outputs": [],
   "source": [
    "x = torch.randn(100, 50)\n",
    "y = torch.rand(100, 1).round()"
   ]
  },
  {
   "cell_type": "markdown",
   "id": "0321e434-de0e-417f-a04d-bcbb6ddfc7d3",
   "metadata": {},
   "source": [
    "## Init the Model"
   ]
  },
  {
   "cell_type": "code",
   "execution_count": 5,
   "id": "36b28fc9-05d2-426a-a11f-ddf9675037c4",
   "metadata": {},
   "outputs": [],
   "source": [
    "# Here we want to search through the ``hidden_dim`` param in Net()\n",
    "# Also try two learning rate in Adam()\n",
    "# Note that the dict key name that start with 'lr_s', 'optim_', 'lossfn_' is reversed and cannot be used\n",
    "param_grid = {'hidden_dim':[20,30,40]}\n",
    "optim_grid = {'lr':[0.01, 0.1]}\n",
    "a = GridSearchCV(Net, param_grid, optim_param_grid=optim_grid, scoring=accuarcy)\n",
    "\n",
    "# Define the lossfn, optimizer, those thing as usual.\n",
    "# Something different is that you are now passing the Class to them, instead of Class_instance\n",
    "# For optimizer and lr_scheduler, you must use ``partial`` to wrap it first\n",
    "# Since we would like to search through the learning_rate, you leave the ``lr`` arg empty in ``partial``\n",
    "from functools import partial\n",
    "a._lossfn = nn.nn.BCEWithLogitsLoss\n",
    "# a._lossfn = nn.nn.BCEWithLogitsLoss() # WRONG\n",
    "a._optimizer = partial(torch.optim.Adam, betas=(0.9, 0.999))\n",
    "# a._optimizer = torch.optim.Adam # WRONG\n",
    "a._lr_scheduler = partial(torch.optim.lr_scheduler.StepLR, step_size=2)\n",
    "# a._lr_scheduler = torch.optim.lr_scheduler.StepLR # WRONG\n",
    "a._config['max_epoch'] = 5"
   ]
  },
  {
   "cell_type": "markdown",
   "id": "4096ae94-7baa-49dd-80d6-d0a093d9e60a",
   "metadata": {},
   "source": [
    "## Fit the Model"
   ]
  },
  {
   "cell_type": "code",
   "execution_count": 6,
   "id": "d760be4c-afec-4aeb-8e7d-4ad8b52ffdde",
   "metadata": {},
   "outputs": [],
   "source": [
    "a.fit(x, y, verbose=0)"
   ]
  },
  {
   "cell_type": "markdown",
   "id": "5ce1ff70-0f34-4219-a99f-7488f654f48f",
   "metadata": {},
   "source": [
    "## Check cv_results_"
   ]
  },
  {
   "cell_type": "code",
   "execution_count": 7,
   "id": "8be2e6f4-4d23-4254-8276-9b85d0905835",
   "metadata": {},
   "outputs": [
    {
     "data": {
      "text/html": [
       "<div>\n",
       "<style scoped>\n",
       "    .dataframe tbody tr th:only-of-type {\n",
       "        vertical-align: middle;\n",
       "    }\n",
       "\n",
       "    .dataframe tbody tr th {\n",
       "        vertical-align: top;\n",
       "    }\n",
       "\n",
       "    .dataframe thead th {\n",
       "        text-align: right;\n",
       "    }\n",
       "</style>\n",
       "<table border=\"1\" class=\"dataframe\">\n",
       "  <thead>\n",
       "    <tr style=\"text-align: right;\">\n",
       "      <th></th>\n",
       "      <th>params</th>\n",
       "      <th>split0_train_loss</th>\n",
       "      <th>split0_test_loss</th>\n",
       "      <th>split0_train_score</th>\n",
       "      <th>split0_test_score</th>\n",
       "      <th>split1_train_loss</th>\n",
       "      <th>split1_test_loss</th>\n",
       "      <th>split1_train_score</th>\n",
       "      <th>split1_test_score</th>\n",
       "      <th>split2_train_loss</th>\n",
       "      <th>...</th>\n",
       "      <th>std_train_loss</th>\n",
       "      <th>std_test_loss</th>\n",
       "      <th>rank_train_loss</th>\n",
       "      <th>rank_test_loss</th>\n",
       "      <th>mean_train_score</th>\n",
       "      <th>mean_test_score</th>\n",
       "      <th>std_train_score</th>\n",
       "      <th>std_test_score</th>\n",
       "      <th>rank_train_score</th>\n",
       "      <th>rank_test_score</th>\n",
       "    </tr>\n",
       "  </thead>\n",
       "  <tbody>\n",
       "    <tr>\n",
       "      <th>0</th>\n",
       "      <td>{'hidden_dim': 20, 'optim_lr': 0.01}</td>\n",
       "      <td>0.448203</td>\n",
       "      <td>0.673029</td>\n",
       "      <td>0.925373</td>\n",
       "      <td>0.363636</td>\n",
       "      <td>0.357867</td>\n",
       "      <td>0.695965</td>\n",
       "      <td>0.940299</td>\n",
       "      <td>0.484848</td>\n",
       "      <td>0.478563</td>\n",
       "      <td>...</td>\n",
       "      <td>0.428211</td>\n",
       "      <td>0.689926</td>\n",
       "      <td>6.0</td>\n",
       "      <td>1.0</td>\n",
       "      <td>0.919870</td>\n",
       "      <td>0.459299</td>\n",
       "      <td>0.919870</td>\n",
       "      <td>0.459299</td>\n",
       "      <td>1.0</td>\n",
       "      <td>3.0</td>\n",
       "    </tr>\n",
       "    <tr>\n",
       "      <th>1</th>\n",
       "      <td>{'hidden_dim': 20, 'optim_lr': 0.1}</td>\n",
       "      <td>0.115072</td>\n",
       "      <td>1.336728</td>\n",
       "      <td>0.970149</td>\n",
       "      <td>0.424242</td>\n",
       "      <td>0.046724</td>\n",
       "      <td>1.899860</td>\n",
       "      <td>1.000000</td>\n",
       "      <td>0.545455</td>\n",
       "      <td>0.229140</td>\n",
       "      <td>...</td>\n",
       "      <td>0.130312</td>\n",
       "      <td>1.619420</td>\n",
       "      <td>3.0</td>\n",
       "      <td>4.0</td>\n",
       "      <td>0.954696</td>\n",
       "      <td>0.509507</td>\n",
       "      <td>0.954696</td>\n",
       "      <td>0.509507</td>\n",
       "      <td>2.0</td>\n",
       "      <td>6.0</td>\n",
       "    </tr>\n",
       "    <tr>\n",
       "      <th>2</th>\n",
       "      <td>{'hidden_dim': 30, 'optim_lr': 0.01}</td>\n",
       "      <td>0.366376</td>\n",
       "      <td>0.694412</td>\n",
       "      <td>0.970149</td>\n",
       "      <td>0.363636</td>\n",
       "      <td>0.358343</td>\n",
       "      <td>0.741321</td>\n",
       "      <td>0.955224</td>\n",
       "      <td>0.484848</td>\n",
       "      <td>0.401218</td>\n",
       "      <td>...</td>\n",
       "      <td>0.375312</td>\n",
       "      <td>0.697648</td>\n",
       "      <td>5.0</td>\n",
       "      <td>2.0</td>\n",
       "      <td>0.954922</td>\n",
       "      <td>0.449495</td>\n",
       "      <td>0.954922</td>\n",
       "      <td>0.449495</td>\n",
       "      <td>3.5</td>\n",
       "      <td>2.0</td>\n",
       "    </tr>\n",
       "    <tr>\n",
       "      <th>3</th>\n",
       "      <td>{'hidden_dim': 30, 'optim_lr': 0.1}</td>\n",
       "      <td>0.050896</td>\n",
       "      <td>2.038369</td>\n",
       "      <td>1.000000</td>\n",
       "      <td>0.575758</td>\n",
       "      <td>0.148949</td>\n",
       "      <td>2.120383</td>\n",
       "      <td>0.940299</td>\n",
       "      <td>0.484848</td>\n",
       "      <td>0.102917</td>\n",
       "      <td>...</td>\n",
       "      <td>0.100921</td>\n",
       "      <td>1.943066</td>\n",
       "      <td>2.0</td>\n",
       "      <td>5.0</td>\n",
       "      <td>0.964948</td>\n",
       "      <td>0.500594</td>\n",
       "      <td>0.964948</td>\n",
       "      <td>0.500594</td>\n",
       "      <td>5.0</td>\n",
       "      <td>5.0</td>\n",
       "    </tr>\n",
       "    <tr>\n",
       "      <th>4</th>\n",
       "      <td>{'hidden_dim': 40, 'optim_lr': 0.01}</td>\n",
       "      <td>0.369939</td>\n",
       "      <td>0.647532</td>\n",
       "      <td>0.955224</td>\n",
       "      <td>0.424242</td>\n",
       "      <td>0.294470</td>\n",
       "      <td>0.808913</td>\n",
       "      <td>0.970149</td>\n",
       "      <td>0.454545</td>\n",
       "      <td>0.368426</td>\n",
       "      <td>...</td>\n",
       "      <td>0.344279</td>\n",
       "      <td>0.722454</td>\n",
       "      <td>4.0</td>\n",
       "      <td>3.0</td>\n",
       "      <td>0.954922</td>\n",
       "      <td>0.439988</td>\n",
       "      <td>0.954922</td>\n",
       "      <td>0.439988</td>\n",
       "      <td>3.5</td>\n",
       "      <td>1.0</td>\n",
       "    </tr>\n",
       "    <tr>\n",
       "      <th>5</th>\n",
       "      <td>{'hidden_dim': 40, 'optim_lr': 0.1}</td>\n",
       "      <td>0.113039</td>\n",
       "      <td>1.791551</td>\n",
       "      <td>0.970149</td>\n",
       "      <td>0.454545</td>\n",
       "      <td>0.053935</td>\n",
       "      <td>2.424563</td>\n",
       "      <td>0.985075</td>\n",
       "      <td>0.454545</td>\n",
       "      <td>0.072590</td>\n",
       "      <td>...</td>\n",
       "      <td>0.079855</td>\n",
       "      <td>1.969020</td>\n",
       "      <td>1.0</td>\n",
       "      <td>6.0</td>\n",
       "      <td>0.985075</td>\n",
       "      <td>0.469697</td>\n",
       "      <td>0.985075</td>\n",
       "      <td>0.469697</td>\n",
       "      <td>6.0</td>\n",
       "      <td>4.0</td>\n",
       "    </tr>\n",
       "  </tbody>\n",
       "</table>\n",
       "<p>6 rows × 25 columns</p>\n",
       "</div>"
      ],
      "text/plain": [
       "                                 params  split0_train_loss  split0_test_loss  \\\n",
       "0  {'hidden_dim': 20, 'optim_lr': 0.01}           0.448203          0.673029   \n",
       "1   {'hidden_dim': 20, 'optim_lr': 0.1}           0.115072          1.336728   \n",
       "2  {'hidden_dim': 30, 'optim_lr': 0.01}           0.366376          0.694412   \n",
       "3   {'hidden_dim': 30, 'optim_lr': 0.1}           0.050896          2.038369   \n",
       "4  {'hidden_dim': 40, 'optim_lr': 0.01}           0.369939          0.647532   \n",
       "5   {'hidden_dim': 40, 'optim_lr': 0.1}           0.113039          1.791551   \n",
       "\n",
       "   split0_train_score  split0_test_score  split1_train_loss  split1_test_loss  \\\n",
       "0            0.925373           0.363636           0.357867          0.695965   \n",
       "1            0.970149           0.424242           0.046724          1.899860   \n",
       "2            0.970149           0.363636           0.358343          0.741321   \n",
       "3            1.000000           0.575758           0.148949          2.120383   \n",
       "4            0.955224           0.424242           0.294470          0.808913   \n",
       "5            0.970149           0.454545           0.053935          2.424563   \n",
       "\n",
       "   split1_train_score  split1_test_score  split2_train_loss  ...  \\\n",
       "0            0.940299           0.484848           0.478563  ...   \n",
       "1            1.000000           0.545455           0.229140  ...   \n",
       "2            0.955224           0.484848           0.401218  ...   \n",
       "3            0.940299           0.484848           0.102917  ...   \n",
       "4            0.970149           0.454545           0.368426  ...   \n",
       "5            0.985075           0.454545           0.072590  ...   \n",
       "\n",
       "   std_train_loss  std_test_loss  rank_train_loss  rank_test_loss  \\\n",
       "0        0.428211       0.689926              6.0             1.0   \n",
       "1        0.130312       1.619420              3.0             4.0   \n",
       "2        0.375312       0.697648              5.0             2.0   \n",
       "3        0.100921       1.943066              2.0             5.0   \n",
       "4        0.344279       0.722454              4.0             3.0   \n",
       "5        0.079855       1.969020              1.0             6.0   \n",
       "\n",
       "   mean_train_score  mean_test_score  std_train_score  std_test_score  \\\n",
       "0          0.919870         0.459299         0.919870        0.459299   \n",
       "1          0.954696         0.509507         0.954696        0.509507   \n",
       "2          0.954922         0.449495         0.954922        0.449495   \n",
       "3          0.964948         0.500594         0.964948        0.500594   \n",
       "4          0.954922         0.439988         0.954922        0.439988   \n",
       "5          0.985075         0.469697         0.985075        0.469697   \n",
       "\n",
       "   rank_train_score  rank_test_score  \n",
       "0               1.0              3.0  \n",
       "1               2.0              6.0  \n",
       "2               3.5              2.0  \n",
       "3               5.0              5.0  \n",
       "4               3.5              1.0  \n",
       "5               6.0              4.0  \n",
       "\n",
       "[6 rows x 25 columns]"
      ]
     },
     "execution_count": 7,
     "metadata": {},
     "output_type": "execute_result"
    }
   ],
   "source": [
    "pd.DataFrame(a.cv_results_)"
   ]
  },
  {
   "cell_type": "markdown",
   "id": "a1e85b0d-dbc5-4195-b645-d4958143825e",
   "metadata": {},
   "source": [
    "## Get the best model"
   ]
  },
  {
   "cell_type": "code",
   "execution_count": 8,
   "id": "90e53c73-a13b-49a1-83a1-f1cdd8dfc61a",
   "metadata": {},
   "outputs": [
    {
     "data": {
      "text/plain": [
       "Net(\n",
       "  (l1): Linear(in_features=50, out_features=40, bias=True)\n",
       "  (l2): Linear(in_features=40, out_features=1, bias=True)\n",
       "  (_lossfn): BCEWithLogitsLoss()\n",
       ")"
      ]
     },
     "execution_count": 8,
     "metadata": {},
     "output_type": "execute_result"
    }
   ],
   "source": [
    "a.best_model_"
   ]
  },
  {
   "cell_type": "code",
   "execution_count": 9,
   "id": "a62d3755-8e10-4c9f-b213-4cdd431d72df",
   "metadata": {},
   "outputs": [
    {
     "name": "stdout",
     "output_type": "stream",
     "text": [
      "0.42424242424242425\n",
      "0.647532120347023\n",
      "{'hidden_dim': 40, 'optim_lr': 0.01}\n"
     ]
    }
   ],
   "source": [
    "print(a.best_score_)\n",
    "print(a.best_loss_)\n",
    "print(a.best_params_)"
   ]
  },
  {
   "cell_type": "code",
   "execution_count": 10,
   "id": "49529352-c525-42c5-ad05-ed30227ef709",
   "metadata": {},
   "outputs": [
    {
     "data": {
      "text/plain": [
       "78.0"
      ]
     },
     "execution_count": 10,
     "metadata": {},
     "output_type": "execute_result"
    }
   ],
   "source": [
    "# This is actually overfitting, we test on training set\n",
    "# But this shows the model works\n",
    "accuarcy(a(x), y)"
   ]
  },
  {
   "cell_type": "code",
   "execution_count": 11,
   "id": "f42b9b85-eed4-44e6-82be-b5718cefe5ce",
   "metadata": {},
   "outputs": [
    {
     "data": {
      "text/plain": [
       "51.0"
      ]
     },
     "execution_count": 11,
     "metadata": {},
     "output_type": "execute_result"
    }
   ],
   "source": [
    "# Try on new dataset, the results should be around 50% as the dataset is random\n",
    "x_test = torch.randn(100, 50)\n",
    "y_test = torch.rand(100, 1).round()\n",
    "accuarcy(a(x_test), y_test)"
   ]
  },
  {
   "cell_type": "code",
   "execution_count": null,
   "id": "3384709f-18b0-48dd-9b75-7eca3a1ab563",
   "metadata": {},
   "outputs": [],
   "source": []
  }
 ],
 "metadata": {
  "kernelspec": {
   "display_name": "Python 3 (ipykernel)",
   "language": "python",
   "name": "python3"
  },
  "language_info": {
   "codemirror_mode": {
    "name": "ipython",
    "version": 3
   },
   "file_extension": ".py",
   "mimetype": "text/x-python",
   "name": "python",
   "nbconvert_exporter": "python",
   "pygments_lexer": "ipython3",
   "version": "3.8.3"
  }
 },
 "nbformat": 4,
 "nbformat_minor": 5
}
