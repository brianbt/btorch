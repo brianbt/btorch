{
 "cells": [
  {
   "cell_type": "code",
   "execution_count": 1,
   "id": "78015db3-324c-49c3-85b1-c7c18dc20198",
   "metadata": {},
   "outputs": [],
   "source": [
    "%load_ext autoreload\n",
    "%autoreload 2\n",
    "\n",
    "import torch\n",
    "import torchvision\n",
    "from torchvision import transforms, datasets\n",
    "from matplotlib import pyplot as plt\n",
    "\n",
    "import btorch\n",
    "from btorch import nn\n",
    "from btorch.vision import models\n"
   ]
  },
  {
   "cell_type": "code",
   "execution_count": 2,
   "id": "e09fe8bd-4459-42a3-ae4c-eef853f58284",
   "metadata": {},
   "outputs": [],
   "source": [
    "class Net(nn.Module):\n",
    "    def __init__(self):\n",
    "        super(Net, self).__init__()\n",
    "        self.l = nn.Linear(50,2)\n",
    "    def forward(self,x):\n",
    "        return self.l(x)\n",
    "    \n",
    "    @classmethod\n",
    "    def predict_(cls, net, loader, device='cuda', config=None):\n",
    "        \"\"\"This is the very basic predicting function. Override this function when necessary\n",
    "            \n",
    "        Returns:\n",
    "            (list or dict): predict results\n",
    "        \"\"\"\n",
    "        net.to(device)\n",
    "        net.eval()\n",
    "        out = []\n",
    "        with torch.inference_mode():\n",
    "            for batch_idx, (inputs, _) in enumerate(loader):\n",
    "                inputs =  inputs.to(device)\n",
    "                out.append({'a':net(inputs), 'c':torch.randn((1,3))})\n",
    "        return out"
   ]
  },
  {
   "cell_type": "code",
   "execution_count": 3,
   "id": "cf56c642-e299-4539-91e2-bdf7728327f0",
   "metadata": {},
   "outputs": [],
   "source": [
    "net = Net()"
   ]
  },
  {
   "cell_type": "code",
   "execution_count": 4,
   "id": "c1e6952e-ab9f-4e85-8717-b9050143c2a4",
   "metadata": {},
   "outputs": [
    {
     "data": {
      "text/plain": [
       "{'a': tensor([[-0.2035, -0.8813],\n",
       "         [ 0.0048,  0.8514],\n",
       "         [ 0.3262,  0.2582],\n",
       "         [ 0.4137,  0.1141],\n",
       "         [-0.5962,  0.0337],\n",
       "         [ 0.3789,  0.3773],\n",
       "         [-0.7160, -0.1606],\n",
       "         [ 0.3325, -0.2332],\n",
       "         [ 0.5766, -0.2468],\n",
       "         [-0.0177,  0.0710],\n",
       "         [-0.0972,  0.3738],\n",
       "         [ 0.1604,  0.4747],\n",
       "         [ 0.4957, -1.2818],\n",
       "         [ 0.2097,  0.0365],\n",
       "         [ 0.5655, -0.6079],\n",
       "         [-0.1665,  0.3114]]),\n",
       " 'c': tensor([[ 0.5458, -0.1501,  0.4077],\n",
       "         [-0.6033,  2.5537, -1.0946]])}"
      ]
     },
     "execution_count": 4,
     "metadata": {},
     "output_type": "execute_result"
    }
   ],
   "source": [
    "net.predict(torch.randn(16,50), return_combined=True)"
   ]
  },
  {
   "cell_type": "code",
   "execution_count": null,
   "id": "8b596992-b7c6-4d79-b1b8-b2bd1c4b9377",
   "metadata": {},
   "outputs": [],
   "source": []
  }
 ],
 "metadata": {
  "kernelspec": {
   "display_name": "Python 3 (ipykernel)",
   "language": "python",
   "name": "python3"
  },
  "language_info": {
   "codemirror_mode": {
    "name": "ipython",
    "version": 3
   },
   "file_extension": ".py",
   "mimetype": "text/x-python",
   "name": "python",
   "nbconvert_exporter": "python",
   "pygments_lexer": "ipython3",
   "version": "3.8.3"
  }
 },
 "nbformat": 4,
 "nbformat_minor": 5
}
